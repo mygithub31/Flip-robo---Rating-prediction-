{
 "cells": [
  {
   "cell_type": "code",
   "execution_count": 1,
   "metadata": {},
   "outputs": [],
   "source": [
    "# Importing Libraries\n",
    "import selenium\n",
    "import pandas as pd\n",
    "import time\n",
    "from bs4 import BeautifulSoup\n",
    "\n",
    "# Importing selenium webdriver\n",
    "from selenium import webdriver\n",
    "\n",
    "# Importing required Exceptions which needs to handled\n",
    "from selenium.common.exceptions import StaleElementReferenceException, NoSuchElementException\n",
    "\n",
    "#Importing requests\n",
    "import requests"
   ]
  },
  {
   "cell_type": "code",
   "execution_count": 15,
   "metadata": {
    "scrolled": true
   },
   "outputs": [
    {
     "name": "stderr",
     "output_type": "stream",
     "text": [
      "\n",
      "\n",
      "====== WebDriver manager ======\n",
      "Current google-chrome version is 96.0.4664\n",
      "Get LATEST driver version for 96.0.4664\n",
      "Get LATEST driver version for 96.0.4664\n",
      "Trying to download new driver from https://chromedriver.storage.googleapis.com/96.0.4664.45/chromedriver_mac64.zip\n",
      "Driver has been saved in cache [/Users/juhimishra/.wdm/drivers/chromedriver/mac64/96.0.4664.45]\n"
     ]
    }
   ],
   "source": [
    "from webdriver_manager.chrome import ChromeDriverManager\n",
    "\n",
    "driver = webdriver.Chrome(ChromeDriverManager().install())"
   ]
  },
  {
   "cell_type": "code",
   "execution_count": 12,
   "metadata": {},
   "outputs": [],
   "source": [
    "url = 'https://www.flipkart.com/dell-vostro-core-i3-11th-gen-8-gb-1-tb-hdd-windows-10-3400-thin-light-laptop/product-reviews/itm07681fdaa2b24?pid=COMGFZXGYZSFCFQD&lid=LSTCOMGFZXGYZSFCFQD7THSPP&marketplace=FLIPKART&page=1'\n",
    "driver.get(url)"
   ]
  },
  {
   "cell_type": "code",
   "execution_count": 14,
   "metadata": {},
   "outputs": [
    {
     "name": "stdout",
     "output_type": "stream",
     "text": [
      "90\n",
      "90\n"
     ]
    }
   ],
   "source": [
    "rating1 = []\n",
    "review1 = []\n",
    "\n",
    "# Fetching details for 1st laptop\n",
    "\n",
    "for i in range(1,10): # Loop for page range\n",
    "    \n",
    "    next_page = 'https://www.flipkart.com/dell-vostro-core-i3-11th-gen-8-gb-1-tb-hdd-windows-10-3400-thin-light-laptop/product-reviews/itm07681fdaa2b24?pid=COMGFZXGYZSFCFQD&lid=LSTCOMGFZXGYZSFCFQD7THSPP&marketplace=FLIPKART&page='+str(i)\n",
    "    driver.get(next_page)\n",
    "    \n",
    "    time.sleep(1)\n",
    "    \n",
    "    for j in driver.find_elements_by_xpath('//div[@class=\"col _2wzgFH K0kLPL\"]/div[1]/div[1]'):\n",
    "        \n",
    "        rating1.append(j.text)\n",
    "        \n",
    "    for a in driver.find_elements_by_xpath('//div[@class=\"col _2wzgFH K0kLPL\"]/div[1]/p'):\n",
    "        \n",
    "        review1.append(a.text.replace(\"\\n\",\"\"))\n",
    "        \n",
    "    time.sleep(1)\n",
    "    \n",
    "# check length of fetched ratings and reviews\n",
    "\n",
    "print(len(rating1))\n",
    "\n",
    "print(len(review1))\n",
    "    \n",
    "    "
   ]
  },
  {
   "cell_type": "code",
   "execution_count": 23,
   "metadata": {},
   "outputs": [],
   "source": [
    "laptop1 = pd.DataFrame({'Rating': rating1,'Review':review1})\n",
    "laptop1.to_excel(r'/Users/juhimishra/Downloads/laptop1.xlsx', index = False)"
   ]
  },
  {
   "cell_type": "code",
   "execution_count": 20,
   "metadata": {
    "scrolled": true
   },
   "outputs": [],
   "source": [
    "url = 'https://www.flipkart.com/mi-notebook-14-core-i5-10th-gen-8-gb-256-gb-ssd-windows-10-home-jyu4298in-thin-light-laptop/product-reviews/itm447bff0c4ffc5?pid=COMFZAM2ZJB38YSS&lid=LSTCOMFZAM2ZJB38YSSJBNZPH&marketplace=FLIPKART&page=1'\n",
    "driver.get(url)"
   ]
  },
  {
   "cell_type": "code",
   "execution_count": 21,
   "metadata": {},
   "outputs": [
    {
     "name": "stdout",
     "output_type": "stream",
     "text": [
      "230\n",
      "230\n"
     ]
    }
   ],
   "source": [
    "rating2 = []\n",
    "review2 = []\n",
    "\n",
    "# Fetching details for 2nd laptop\n",
    "\n",
    "for i in range(1,24): # Loop for page range\n",
    "    \n",
    "    next_page = 'https://www.flipkart.com/mi-notebook-14-core-i5-10th-gen-8-gb-256-gb-ssd-windows-10-home-jyu4298in-thin-light-laptop/product-reviews/itm447bff0c4ffc5?pid=COMFZAM2ZJB38YSS&lid=LSTCOMFZAM2ZJB38YSSJBNZPH&marketplace=FLIPKART&page='+str(i)\n",
    "    driver.get(next_page)\n",
    "    \n",
    "    time.sleep(1)\n",
    "    \n",
    "    for j in driver.find_elements_by_xpath('//div[@class=\"col _2wzgFH K0kLPL\"]/div[1]/div[1]'):\n",
    "        \n",
    "        rating2.append(j.text)\n",
    "        \n",
    "    for a in driver.find_elements_by_xpath('//div[@class=\"col _2wzgFH K0kLPL\"]/div[1]/p'):\n",
    "        \n",
    "        review2.append(a.text.replace(\"\\n\",\"\"))\n",
    "        \n",
    "    time.sleep(1)\n",
    "    \n",
    "# check length of fetched ratings and reviews\n",
    "\n",
    "print(len(rating2))\n",
    "\n",
    "print(len(review2))\n",
    "    "
   ]
  },
  {
   "cell_type": "code",
   "execution_count": 24,
   "metadata": {},
   "outputs": [],
   "source": [
    "laptop2 = pd.DataFrame({'Rating': rating2,'Review':review2})\n",
    "laptop2.to_excel(r'/Users/juhimishra/Downloads/laptop2.xlsx', index = False)"
   ]
  },
  {
   "cell_type": "code",
   "execution_count": 25,
   "metadata": {
    "scrolled": true
   },
   "outputs": [
    {
     "name": "stdout",
     "output_type": "stream",
     "text": [
      "330\n",
      "330\n"
     ]
    }
   ],
   "source": [
    "driver.get('https://www.flipkart.com/hp-pavilion-ryzen-5-hexa-core-5600h-8-gb-512-gb-ssd-windows-10-home-4-graphics-nvidia-geforce-gtx-1650-144-hz-15-ec2004ax-gaming-laptop/product-reviews/itm98c94bbf9bc20?pid=COMG5GZXPWMGTNWS&lid=LSTCOMG5GZXPWMGTNWS2SZL9C&marketplace=FLIPKART&page=1')\n",
    "\n",
    "rating3 = []\n",
    "review3 = []\n",
    "\n",
    "# Fetching details for 3rd laptop\n",
    "\n",
    "for i in range(1,34): # Loop for page range\n",
    "    \n",
    "    next_page = 'https://www.flipkart.com/hp-pavilion-ryzen-5-hexa-core-5600h-8-gb-512-gb-ssd-windows-10-home-4-graphics-nvidia-geforce-gtx-1650-144-hz-15-ec2004ax-gaming-laptop/product-reviews/itm98c94bbf9bc20?pid=COMG5GZXPWMGTNWS&lid=LSTCOMG5GZXPWMGTNWS2SZL9C&marketplace=FLIPKART&page='+str(i)\n",
    "    driver.get(next_page)\n",
    "    \n",
    "    time.sleep(1)\n",
    "    \n",
    "    for j in driver.find_elements_by_xpath('//div[@class=\"col _2wzgFH K0kLPL\"]/div[1]/div[1]'):\n",
    "        \n",
    "        rating3.append(j.text)\n",
    "        \n",
    "    for a in driver.find_elements_by_xpath('//div[@class=\"col _2wzgFH K0kLPL\"]/div[1]/p'):\n",
    "        \n",
    "        review3.append(a.text.replace(\"\\n\",\"\"))\n",
    "        \n",
    "    time.sleep(1)\n",
    "    \n",
    "# check length of fetched ratings and reviews\n",
    "\n",
    "print(len(rating3))\n",
    "\n",
    "print(len(review3))\n",
    "\n",
    "laptop3 = pd.DataFrame({'Rating': rating3,'Review':review3})\n",
    "laptop3.to_excel(r'/Users/juhimishra/Downloads/laptop3.xlsx', index = False)"
   ]
  },
  {
   "cell_type": "code",
   "execution_count": 27,
   "metadata": {},
   "outputs": [
    {
     "name": "stdout",
     "output_type": "stream",
     "text": [
      "271\n",
      "271\n"
     ]
    }
   ],
   "source": [
    "driver.get('https://www.flipkart.com/asus-tuf-gaming-f15-core-i5-10th-gen-8-gb-512-gb-ssd-windows-10-home-4-graphics-nvidia-geforce-gtx-1650-ti-144-hz-fx506li-hn271ts-laptop/product-reviews/itme14aa4095ad4c?pid=COMGFVWMZXNEDHFB&lid=LSTCOMGFVWMZXNEDHFBKVM1HI&marketplace=FLIPKART&page=1')\n",
    "\n",
    "rating4 =[]\n",
    "review4 =[]\n",
    "\n",
    "# Fetching details for 4th laptop\n",
    "\n",
    "for i in range(1,34): # Loop for page range\n",
    "    \n",
    "    next_page = 'https://www.flipkart.com/asus-tuf-gaming-f15-core-i5-10th-gen-8-gb-512-gb-ssd-windows-10-home-4-graphics-nvidia-geforce-gtx-1650-ti-144-hz-fx506li-hn271ts-laptop/product-reviews/itme14aa4095ad4c?pid=COMGFVWMZXNEDHFB&lid=LSTCOMGFVWMZXNEDHFBKVM1HI&marketplace=FLIPKART&page='+str(i)\n",
    "    driver.get(next_page)\n",
    "    \n",
    "    time.sleep(1)\n",
    "    \n",
    "    for j in driver.find_elements_by_xpath('//div[@class=\"col _2wzgFH K0kLPL\"]/div[1]/div[1]'):\n",
    "        \n",
    "        rating4.append(j.text)\n",
    "        \n",
    "    for a in driver.find_elements_by_xpath('//div[@class=\"col _2wzgFH K0kLPL\"]/div[1]/p'):\n",
    "        \n",
    "        review4.append(a.text.replace(\"\\n\",\"\"))\n",
    "        \n",
    "    time.sleep(1)\n",
    "    \n",
    "# check length of fetched ratings and reviews\n",
    "\n",
    "print(len(rating4))\n",
    "\n",
    "print(len(review4))\n",
    "\n",
    "laptop4 = pd.DataFrame({'Rating': rating4,'Review':review4})\n",
    "laptop4.to_excel(r'/Users/juhimishra/Downloads/laptop4.xlsx', index = False)"
   ]
  },
  {
   "cell_type": "code",
   "execution_count": 28,
   "metadata": {},
   "outputs": [
    {
     "name": "stdout",
     "output_type": "stream",
     "text": [
      "160\n",
      "160\n"
     ]
    }
   ],
   "source": [
    "driver.get('https://www.flipkart.com/acer-predator-helios-300-octa-core-i7-10th-gen-16-gb-1-tb-hdd-256-gb-ssd-windows-10-home-6-graphics-nvidia-geforce-rtx-3060-144-hz-ph315-53-gaming-laptop/product-reviews/itmb2022d3889ada?pid=COMGFH8KHCHZBHDQ&lid=LSTCOMGFH8KHCHZBHDQUCRINS&marketplace=FLIPKART&page=1')\n",
    "\n",
    "rating5=[]\n",
    "review5=[]\n",
    "\n",
    "# Fetching details for 5th laptop\n",
    "\n",
    "for i in range(1,17): # Loop for page range\n",
    "    \n",
    "    next_page = 'https://www.flipkart.com/acer-predator-helios-300-octa-core-i7-10th-gen-16-gb-1-tb-hdd-256-gb-ssd-windows-10-home-6-graphics-nvidia-geforce-rtx-3060-144-hz-ph315-53-gaming-laptop/product-reviews/itmb2022d3889ada?pid=COMGFH8KHCHZBHDQ&lid=LSTCOMGFH8KHCHZBHDQUCRINS&marketplace=FLIPKART&page='+str(i)\n",
    "    driver.get(next_page)\n",
    "\n",
    "    time.sleep(1)\n",
    "\n",
    "    for j in driver.find_elements_by_xpath('//div[@class=\"col _2wzgFH K0kLPL\"]/div[1]/div[1]'):\n",
    "        \n",
    "        rating5.append(j.text)\n",
    "        \n",
    "    for a in driver.find_elements_by_xpath('//div[@class=\"col _2wzgFH K0kLPL\"]/div[1]/p'):\n",
    "        \n",
    "        review5.append(a.text.replace(\"\\n\",\"\"))\n",
    "        \n",
    "    time.sleep(1)\n",
    "    \n",
    "# check length of fetched ratings and reviews\n",
    "\n",
    "print(len(rating5))\n",
    "\n",
    "print(len(review5))\n",
    "\n",
    "laptop5 = pd.DataFrame({'Rating': rating5,'Review':review5})\n",
    "laptop5.to_excel(r'/Users/juhimishra/Downloads/laptop5.xlsx', index = False)\n",
    "\n",
    "\n"
   ]
  },
  {
   "cell_type": "code",
   "execution_count": 32,
   "metadata": {},
   "outputs": [
    {
     "name": "stdout",
     "output_type": "stream",
     "text": [
      "230\n",
      "230\n"
     ]
    }
   ],
   "source": [
    "driver.get('https://www.flipkart.com/asus-ryzen-3-dual-core-3250u-3rd-gen-8-gb-256-gb-ssd-windows-10-home-m515da-bq322ts-thin-light-laptop/product-reviews/itm00d893dc25af4?pid=COMG6HNASNQG6XC7&lid=LSTCOMG6HNASNQG6XC7TOWQN2&marketplace=FLIPKART&page=1')\n",
    "\n",
    "rating6 =[]\n",
    "review6 =[]\n",
    "\n",
    "# Fetching detail for 6th laptop\n",
    "\n",
    "for i in range(1,24): # Loop for page range\n",
    "    \n",
    "    next_page = 'https://www.flipkart.com/asus-ryzen-3-dual-core-3250u-3rd-gen-8-gb-256-gb-ssd-windows-10-home-m515da-bq322ts-thin-light-laptop/product-reviews/itm00d893dc25af4?pid=COMG6HNASNQG6XC7&lid=LSTCOMG6HNASNQG6XC7TOWQN2&marketplace=FLIPKART&page='+str(i)\n",
    "    driver.get(next_page)\n",
    "    \n",
    "    time.sleep(1)\n",
    "    \n",
    "    for j in driver.find_elements_by_xpath('//div[@class=\"col _2wzgFH K0kLPL\"]/div[1]/div[1]'):\n",
    "        \n",
    "        rating6.append(j.text)\n",
    "        \n",
    "    for a in driver.find_elements_by_xpath('//div[@class=\"col _2wzgFH K0kLPL\"]/div[1]/p'):\n",
    "        \n",
    "        review6.append(a.text.replace(\"\\n\",\"\"))\n",
    "        \n",
    "    time.sleep(1)\n",
    "    \n",
    "# check length of fetched ratings and reviews\n",
    "\n",
    "print(len(rating6))\n",
    "\n",
    "print(len(review6))\n",
    "\n",
    "laptop6 = pd.DataFrame({'Rating': rating6,'Review':review6})\n",
    "laptop6.to_excel(r'/Users/juhimishra/Downloads/laptop6.xlsx', index = False)"
   ]
  },
  {
   "cell_type": "code",
   "execution_count": 33,
   "metadata": {},
   "outputs": [
    {
     "name": "stdout",
     "output_type": "stream",
     "text": [
      "204\n",
      "204\n"
     ]
    }
   ],
   "source": [
    "driver.get('https://www.flipkart.com/msi-gf63-thin-hexa-core-i5-10th-gen-8-gb-1-tb-hdd-256-gb-ssd-windows-10-home-4-graphics-nvidia-geforce-gtx-1650-max-q-60-hz-10scxr-1616in-10sc-611in-gaming-laptop/product-reviews/itmb8888c44a1a68?pid=COMG2K9ZBFJ3ZASR&lid=LSTCOMG2K9ZBFJ3ZASR2MWKVV&marketplace=FLIPKART&page=1')\n",
    "\n",
    "rating7 =[]\n",
    "review7 =[]\n",
    "\n",
    "# Fetching detail for 7th laptop\n",
    "\n",
    "for i in range(1,24): # Loop for page range\n",
    "    \n",
    "    next_page = 'https://www.flipkart.com/msi-gf63-thin-hexa-core-i5-10th-gen-8-gb-1-tb-hdd-256-gb-ssd-windows-10-home-4-graphics-nvidia-geforce-gtx-1650-max-q-60-hz-10scxr-1616in-10sc-611in-gaming-laptop/product-reviews/itmb8888c44a1a68?pid=COMG2K9ZBFJ3ZASR&lid=LSTCOMG2K9ZBFJ3ZASR2MWKVV&marketplace=FLIPKART&page='+str(i)\n",
    "    driver.get(next_page)\n",
    "    \n",
    "    time.sleep(1)\n",
    "    \n",
    "    for j in driver.find_elements_by_xpath('//div[@class=\"col _2wzgFH K0kLPL\"]/div[1]/div[1]'):\n",
    "        \n",
    "        rating7.append(j.text)\n",
    "        \n",
    "    for a in driver.find_elements_by_xpath('//div[@class=\"col _2wzgFH K0kLPL\"]/div[1]/p'):\n",
    "        \n",
    "        review7.append(a.text.replace(\"\\n\",\"\"))\n",
    "        \n",
    "    time.sleep(1)\n",
    "    \n",
    "# check length of fetched ratings and reviews\n",
    "\n",
    "print(len(rating7))\n",
    "\n",
    "print(len(review7))\n",
    "\n",
    "laptop7 = pd.DataFrame({'Rating': rating7,'Review':review7})\n",
    "laptop7.to_excel(r'/Users/juhimishra/Downloads/laptop7.xlsx', index = False)"
   ]
  },
  {
   "cell_type": "code",
   "execution_count": 34,
   "metadata": {},
   "outputs": [
    {
     "name": "stdout",
     "output_type": "stream",
     "text": [
      "1880\n",
      "1880\n"
     ]
    }
   ],
   "source": [
    "driver.get('https://www.flipkart.com/gionee-max-pro-blue-32-gb/product-reviews/itm3769097c6c5f1?pid=MOBGYGVW3VVAGMHE&lid=LSTMOBGYGVW3VVAGMHEXCXWJX&marketplace=FLIPKART&page=1')\n",
    "\n",
    "rating_mob =[]\n",
    "review_mob =[]\n",
    "\n",
    "# Fetching detail for 1st mobile\n",
    "\n",
    "for i in range(1,189): # Loop for page range\n",
    "    \n",
    "    next_page = 'https://www.flipkart.com/gionee-max-pro-blue-32-gb/product-reviews/itm3769097c6c5f1?pid=MOBGYGVW3VVAGMHE&lid=LSTMOBGYGVW3VVAGMHEXCXWJX&marketplace=FLIPKART&page='+str(i)\n",
    "    driver.get(next_page)\n",
    "    \n",
    "    time.sleep(1)\n",
    "    \n",
    "    for j in driver.find_elements_by_xpath('//div[@class=\"col _2wzgFH K0kLPL\"]/div[1]/div[1]'):\n",
    "        \n",
    "        rating_mob.append(j.text)\n",
    "        \n",
    "    for a in driver.find_elements_by_xpath('//div[@class=\"col _2wzgFH K0kLPL\"]/div[1]/p'):\n",
    "        \n",
    "        review_mob.append(a.text.replace(\"\\n\",\"\"))\n",
    "        \n",
    "    time.sleep(1)\n",
    "    \n",
    "# check length of fetched ratings and reviews\n",
    "\n",
    "print(len(rating_mob))\n",
    "\n",
    "print(len(review_mob))\n",
    "\n",
    "mobile1 = pd.DataFrame({'Rating': rating_mob,'Review':review_mob})\n",
    "mobile1.to_excel(r'/Users/juhimishra/Downloads/mobile1.xlsx', index = False)"
   ]
  },
  {
   "cell_type": "code",
   "execution_count": 35,
   "metadata": {},
   "outputs": [
    {
     "name": "stdout",
     "output_type": "stream",
     "text": [
      "727\n",
      "727\n"
     ]
    }
   ],
   "source": [
    "driver.get('https://www.flipkart.com/realme-c21y-cross-blue-32-gb/product-reviews/itm2a2e4f7554a21?pid=MOBG5ZGKXCGFB9HP&lid=LSTMOBG5ZGKXCGFB9HPAGPTXZ&marketplace=FLIPKART&page=1')\n",
    "\n",
    "rating_mob2 =[]\n",
    "review_mob2 =[]\n",
    "\n",
    "# Fetching detail for 2nd mobile\n",
    "\n",
    "for i in range(1,189): # Loop for page range\n",
    "    \n",
    "    next_page = 'https://www.flipkart.com/realme-c21y-cross-blue-32-gb/product-reviews/itm2a2e4f7554a21?pid=MOBG5ZGKXCGFB9HP&lid=LSTMOBG5ZGKXCGFB9HPAGPTXZ&marketplace=FLIPKART&page='+str(i)\n",
    "    driver.get(next_page)\n",
    "    \n",
    "    time.sleep(1)\n",
    "    \n",
    "    for j in driver.find_elements_by_xpath('//div[@class=\"col _2wzgFH K0kLPL\"]/div[1]/div[1]'):\n",
    "        \n",
    "        rating_mob2.append(j.text)\n",
    "        \n",
    "    for a in driver.find_elements_by_xpath('//div[@class=\"col _2wzgFH K0kLPL\"]/div[1]/p'):\n",
    "        \n",
    "        review_mob2.append(a.text.replace(\"\\n\",\"\"))\n",
    "        \n",
    "    time.sleep(1)\n",
    "    \n",
    "# check length of fetched ratings and reviews\n",
    "\n",
    "print(len(rating_mob2))\n",
    "\n",
    "print(len(review_mob2))\n",
    "\n",
    "mobile2 = pd.DataFrame({'Rating': rating_mob2,'Review':review_mob2})\n",
    "mobile2.to_excel(r'/Users/juhimishra/Downloads/mobile2.xlsx', index = False)"
   ]
  },
  {
   "cell_type": "code",
   "execution_count": 36,
   "metadata": {},
   "outputs": [
    {
     "name": "stdout",
     "output_type": "stream",
     "text": [
      "6699\n",
      "6699\n"
     ]
    }
   ],
   "source": [
    "driver.get('https://www.flipkart.com/realme-c21y-cross-black-64-gb/product-reviews/itm2a2e4f7554a21?pid=MOBG5ZGKQVSRBYGJ&lid=LSTMOBG5ZGKQVSRBYGJ0HCCOL&marketplace=FLIPKART&page=1')\n",
    "\n",
    "rating_mob3 =[]\n",
    "review_mob3 =[]\n",
    "\n",
    "# Fetching detail for 3rd mobile\n",
    "\n",
    "for i in range(1,683): # Loop for page range\n",
    "    \n",
    "    next_page = 'https://www.flipkart.com/realme-c21y-cross-black-64-gb/product-reviews/itm2a2e4f7554a21?pid=MOBG5ZGKQVSRBYGJ&lid=LSTMOBG5ZGKQVSRBYGJ0HCCOL&marketplace=FLIPKART&page='+str(i)\n",
    "    driver.get(next_page)\n",
    "    \n",
    "    time.sleep(1)\n",
    "    \n",
    "    for j in driver.find_elements_by_xpath('//div[@class=\"col _2wzgFH K0kLPL\"]/div[1]/div[1]'):\n",
    "        \n",
    "        rating_mob3.append(j.text)\n",
    "        \n",
    "    for a in driver.find_elements_by_xpath('//div[@class=\"col _2wzgFH K0kLPL\"]/div[1]/p'):\n",
    "        \n",
    "        review_mob3.append(a.text.replace(\"\\n\",\"\"))\n",
    "        \n",
    "    time.sleep(1)\n",
    "    \n",
    "# check length of fetched ratings and reviews\n",
    "\n",
    "print(len(rating_mob3))\n",
    "\n",
    "print(len(review_mob3))\n",
    "\n",
    "mobile3 = pd.DataFrame({'Rating': rating_mob3,'Review':review_mob3})\n",
    "mobile3.to_excel(r'/Users/juhimishra/Downloads/mobile3.xlsx', index = False)"
   ]
  },
  {
   "cell_type": "code",
   "execution_count": 37,
   "metadata": {},
   "outputs": [
    {
     "name": "stdout",
     "output_type": "stream",
     "text": [
      "1517\n",
      "1517\n"
     ]
    }
   ],
   "source": [
    "driver.get('https://www.flipkart.com/noise-air-buds-mini-truly-wireless-bluetooth-headset/product-reviews/itme84b971c1f989?pid=ACCG36FHAZFMZ8PK&lid=LSTACCG36FHAZFMZ8PKXVQ7WJ&marketplace=FLIPKART&page=1')\n",
    "\n",
    "rating_hp =[]\n",
    "review_hp =[]\n",
    "\n",
    "# Fetching detail for 1st headphone\n",
    "\n",
    "for i in range(1,189): # Loop for page range\n",
    "    \n",
    "    next_page = 'https://www.flipkart.com/noise-air-buds-mini-truly-wireless-bluetooth-headset/product-reviews/itme84b971c1f989?pid=ACCG36FHAZFMZ8PK&lid=LSTACCG36FHAZFMZ8PKXVQ7WJ&marketplace=FLIPKART&page='+str(i)\n",
    "    driver.get(next_page)\n",
    "    \n",
    "    time.sleep(1)\n",
    "    \n",
    "    for j in driver.find_elements_by_xpath('//div[@class=\"col _2wzgFH K0kLPL\"]/div[1]/div[1]'):\n",
    "        \n",
    "        rating_hp.append(j.text)\n",
    "        \n",
    "    for a in driver.find_elements_by_xpath('//div[@class=\"col _2wzgFH K0kLPL\"]/div[1]/p'):\n",
    "        \n",
    "        review_hp.append(a.text.replace(\"\\n\",\"\"))\n",
    "        \n",
    "    time.sleep(1)\n",
    "    \n",
    "# check length of fetched ratings and reviews\n",
    "\n",
    "print(len(rating_hp))\n",
    "\n",
    "print(len(review_hp))\n",
    "\n",
    "headphone = pd.DataFrame({'Rating': rating_hp,'Review':review_hp})\n",
    "headphone.to_excel(r'/Users/juhimishra/Downloads/headphone.xlsx', index = False)"
   ]
  },
  {
   "cell_type": "code",
   "execution_count": 40,
   "metadata": {
    "scrolled": false
   },
   "outputs": [
    {
     "name": "stdout",
     "output_type": "stream",
     "text": [
      "1113\n",
      "1113\n"
     ]
    }
   ],
   "source": [
    "driver.get('https://www.flipkart.com/aroma-nb119-titanium-48-hours-playtime-bluetooth-neckband-headset/product-reviews/itm6f0505aff0562?pid=ACCG7QVCBATTJCST&lid=LSTACCG7QVCBATTJCSTFTARXZ&marketplace=FLIPKART&page=1')\n",
    "\n",
    "rating_hp2 =[]\n",
    "review_hp2 =[]\n",
    "\n",
    "# Fetching detail for 2nd Headphone\n",
    "\n",
    "for i in range(1,113): # Loop for page range\n",
    "    \n",
    "    next_page = 'https://www.flipkart.com/aroma-nb119-titanium-48-hours-playtime-bluetooth-neckband-headset/product-reviews/itm6f0505aff0562?pid=ACCG7QVCBATTJCST&lid=LSTACCG7QVCBATTJCSTFTARXZ&marketplace=FLIPKART&page='+str(i)\n",
    "    driver.get(next_page)\n",
    "    \n",
    "    time.sleep(1)\n",
    "    \n",
    "    for j in driver.find_elements_by_xpath('//div[@class=\"col _2wzgFH K0kLPL\"]/div[1]/div[1]'):\n",
    "        \n",
    "        rating_hp2.append(j.text)\n",
    "        \n",
    "    for a in driver.find_elements_by_xpath('//div[@class=\"col _2wzgFH K0kLPL\"]/div[1]/p'):\n",
    "        \n",
    "        review_hp2.append(a.text.replace(\"\\n\",\"\"))\n",
    "        \n",
    "    time.sleep(1)\n",
    "    \n",
    "# check length of fetched ratings and reviews\n",
    "\n",
    "print(len(rating_hp2))\n",
    "\n",
    "print(len(review_hp2))\n",
    "\n",
    "headphone2 = pd.DataFrame({'Rating': rating_hp2,'Review':review_hp2})\n",
    "headphone2.to_excel(r'/Users/juhimishra/Downloads/headphone2.xlsx', index = False)"
   ]
  },
  {
   "cell_type": "code",
   "execution_count": 41,
   "metadata": {
    "scrolled": true
   },
   "outputs": [
    {
     "name": "stdout",
     "output_type": "stream",
     "text": [
      "2876\n",
      "2876\n"
     ]
    }
   ],
   "source": [
    "driver.get('https://www.flipkart.com/boat-bassheads-900-wired-headset/product-reviews/itm1f5b43896a3b5?pid=ACCEX3U2RXJFUGWG&lid=LSTACCEX3U2RXJFUGWGXI7QX4&marketplace=FLIPKART&page=1')\n",
    "\n",
    "rating_hp3 =[]\n",
    "review_hp3 =[]\n",
    "\n",
    "# Fetching detail for 3rd Headphone\n",
    "\n",
    "for i in range(1,300): # Loop for page range\n",
    "    \n",
    "    next_page = 'https://www.flipkart.com/boat-bassheads-900-wired-headset/product-reviews/itm1f5b43896a3b5?pid=ACCEX3U2RXJFUGWG&lid=LSTACCEX3U2RXJFUGWGXI7QX4&marketplace=FLIPKART&page='+str(i)\n",
    "    driver.get(next_page)\n",
    "    \n",
    "    time.sleep(1)\n",
    "    \n",
    "    for j in driver.find_elements_by_xpath('//div[@class=\"col _2wzgFH K0kLPL\"]/div[1]/div[1]'):\n",
    "        \n",
    "        rating_hp3.append(j.text)\n",
    "        \n",
    "    for a in driver.find_elements_by_xpath('//div[@class=\"col _2wzgFH K0kLPL\"]/div[1]/p'):\n",
    "        \n",
    "        review_hp3.append(a.text.replace(\"\\n\",\"\"))\n",
    "        \n",
    "    time.sleep(1)\n",
    "    \n",
    "# check length of fetched ratings and reviews\n",
    "\n",
    "print(len(rating_hp3))\n",
    "\n",
    "print(len(review_hp3))\n",
    "\n",
    "headphone3 = pd.DataFrame({'Rating': rating_hp3,'Review':review_hp3})\n",
    "headphone3.to_excel(r'/Users/juhimishra/Downloads/headphone3.xlsx', index = False)"
   ]
  },
  {
   "cell_type": "code",
   "execution_count": 42,
   "metadata": {},
   "outputs": [
    {
     "name": "stdout",
     "output_type": "stream",
     "text": [
      "5959\n",
      "5959\n"
     ]
    }
   ],
   "source": [
    "driver.get('https://www.flipkart.com/boat-bassheads-900-wired-headset/product-reviews/itm1f5b43896a3b5?pid=ACCEX3U2RXJFUGWG&lid=LSTACCEX3U2RXJFUGWGXI7QX4&marketplace=FLIPKART&page=1')\n",
    "\n",
    "rating_hp4 =[]\n",
    "review_hp4 =[]\n",
    "\n",
    "# Fetching detail for 4th Headphone\n",
    "\n",
    "for i in range(400,1000): # Loop for page range\n",
    "    \n",
    "    next_page = 'https://www.flipkart.com/boat-bassheads-900-wired-headset/product-reviews/itm1f5b43896a3b5?pid=ACCEX3U2RXJFUGWG&lid=LSTACCEX3U2RXJFUGWGXI7QX4&marketplace=FLIPKART&page='+str(i)\n",
    "    driver.get(next_page)\n",
    "    \n",
    "    time.sleep(1)\n",
    "    \n",
    "    for j in driver.find_elements_by_xpath('//div[@class=\"col _2wzgFH K0kLPL\"]/div[1]/div[1]'):\n",
    "        \n",
    "        rating_hp4.append(j.text)\n",
    "        \n",
    "    for a in driver.find_elements_by_xpath('//div[@class=\"col _2wzgFH K0kLPL\"]/div[1]/p'):\n",
    "        \n",
    "        review_hp4.append(a.text.replace(\"\\n\",\"\"))\n",
    "        \n",
    "    time.sleep(1)\n",
    "    \n",
    "# check length of fetched ratings and reviews\n",
    "\n",
    "print(len(rating_hp4))\n",
    "\n",
    "print(len(review_hp4))\n",
    "\n",
    "headphone4 = pd.DataFrame({'Rating': rating_hp4,'Review':review_hp4})\n",
    "headphone4.to_excel(r'/Users/juhimishra/Downloads/headphone4.xlsx', index = False)"
   ]
  },
  {
   "cell_type": "code",
   "execution_count": 43,
   "metadata": {},
   "outputs": [
    {
     "name": "stdout",
     "output_type": "stream",
     "text": [
      "549\n",
      "549\n"
     ]
    }
   ],
   "source": [
    "driver.get('https://www.flipkart.com/txor-storm-m5-black-smartwatch/product-reviews/itmdc249233324d3?pid=SMWFZR2PMHK6VSUM&lid=LSTSMWFZR2PMHK6VSUM8OFIMH&marketplace=FLIPKART&page=1')\n",
    "\n",
    "rating_sw1 =[]\n",
    "review_sw1 =[]\n",
    "\n",
    "# Fetching detail for 1st Smartwatch\n",
    "\n",
    "for i in range(1,56): # Loop for page range\n",
    "    \n",
    "    next_page = 'https://www.flipkart.com/txor-storm-m5-black-smartwatch/product-reviews/itmdc249233324d3?pid=SMWFZR2PMHK6VSUM&lid=LSTSMWFZR2PMHK6VSUM8OFIMH&marketplace=FLIPKART&page='+str(i)\n",
    "    driver.get(next_page)\n",
    "    \n",
    "    time.sleep(1)\n",
    "    \n",
    "    for j in driver.find_elements_by_xpath('//div[@class=\"col _2wzgFH K0kLPL\"]/div[1]/div[1]'):\n",
    "        \n",
    "        rating_sw1.append(j.text)\n",
    "        \n",
    "    for a in driver.find_elements_by_xpath('//div[@class=\"col _2wzgFH K0kLPL\"]/div[1]/p'):\n",
    "        \n",
    "        review_sw1.append(a.text.replace(\"\\n\",\"\"))\n",
    "        \n",
    "    time.sleep(1)\n",
    "    \n",
    "# check length of fetched ratings and reviews\n",
    "\n",
    "print(len(rating_sw1))\n",
    "\n",
    "print(len(review_sw1))\n",
    "\n",
    "smartwatch1 = pd.DataFrame({'Rating': rating_sw1,'Review':review_sw1})\n",
    "smartwatch1.to_excel(r'/Users/juhimishra/Downloads/smartwatch1.xlsx', index = False)"
   ]
  },
  {
   "cell_type": "code",
   "execution_count": 44,
   "metadata": {
    "scrolled": true
   },
   "outputs": [
    {
     "name": "stdout",
     "output_type": "stream",
     "text": [
      "1526\n",
      "1526\n"
     ]
    }
   ],
   "source": [
    "driver.get('https://www.flipkart.com/noise-colorfit-qube-spo2-charcoal-black-smartwatch/product-reviews/itm2d9dc41a02202?pid=SMWG6RB5FX7RXWZ8&lid=LSTSMWG6RB5FX7RXWZ8MROVKI&marketplace=FLIPKART&page=1')\n",
    "\n",
    "rating_sw2 =[]\n",
    "review_sw2 =[]\n",
    "\n",
    "# Fetching detail for 2nd Smartwatch\n",
    "\n",
    "for i in range(1,165): # Loop for page range\n",
    "    \n",
    "    next_page = 'https://www.flipkart.com/noise-colorfit-qube-spo2-charcoal-black-smartwatch/product-reviews/itm2d9dc41a02202?pid=SMWG6RB5FX7RXWZ8&lid=LSTSMWG6RB5FX7RXWZ8MROVKI&marketplace=FLIPKART&page='+str(i)\n",
    "    driver.get(next_page)\n",
    "    \n",
    "    time.sleep(1)\n",
    "    \n",
    "    for j in driver.find_elements_by_xpath('//div[@class=\"col _2wzgFH K0kLPL\"]/div[1]/div[1]'):\n",
    "        \n",
    "        rating_sw2.append(j.text)\n",
    "        \n",
    "    for a in driver.find_elements_by_xpath('//div[@class=\"col _2wzgFH K0kLPL\"]/div[1]/p'):\n",
    "        \n",
    "        review_sw2.append(a.text.replace(\"\\n\",\"\"))\n",
    "        \n",
    "    time.sleep(1)\n",
    "    \n",
    "# check length of fetched ratings and reviews\n",
    "\n",
    "print(len(rating_sw2))\n",
    "\n",
    "print(len(review_sw2))\n",
    "\n",
    "smartwatch2 = pd.DataFrame({'Rating': rating_sw2,'Review':review_sw2})\n",
    "smartwatch2.to_excel(r'/Users/juhimishra/Downloads/smartwatch2.xlsx', index = False)"
   ]
  },
  {
   "cell_type": "code",
   "execution_count": 45,
   "metadata": {},
   "outputs": [
    {
     "name": "stdout",
     "output_type": "stream",
     "text": [
      "1689\n",
      "1689\n"
     ]
    }
   ],
   "source": [
    "driver.get('https://www.flipkart.com/realme-watch-2/product-reviews/itm44d90218d1891?pid=SMWG4WFWZABX4VQF&lid=LSTSMWG4WFWZABX4VQF3C2LIY&marketplace=FLIPKART&page=1')\n",
    "\n",
    "rating_sw3 =[]\n",
    "review_sw3 =[]\n",
    "\n",
    "# Fetching detail for 3rd Smartwatch\n",
    "\n",
    "for i in range(1,171): # Loop for page range\n",
    "    \n",
    "    next_page = 'https://www.flipkart.com/realme-watch-2/product-reviews/itm44d90218d1891?pid=SMWG4WFWZABX4VQF&lid=LSTSMWG4WFWZABX4VQF3C2LIY&marketplace=FLIPKART&page='+str(i)\n",
    "    driver.get(next_page)\n",
    "    \n",
    "    time.sleep(1)\n",
    "    \n",
    "    for j in driver.find_elements_by_xpath('//div[@class=\"col _2wzgFH K0kLPL\"]/div[1]/div[1]'):\n",
    "        \n",
    "        rating_sw3.append(j.text)\n",
    "        \n",
    "    for a in driver.find_elements_by_xpath('//div[@class=\"col _2wzgFH K0kLPL\"]/div[1]/p'):\n",
    "        \n",
    "        review_sw3.append(a.text.replace(\"\\n\",\"\"))\n",
    "        \n",
    "    time.sleep(1)\n",
    "    \n",
    "# check length of fetched ratings and reviews\n",
    "\n",
    "print(len(rating_sw3))\n",
    "\n",
    "print(len(review_sw3))\n",
    "\n",
    "smartwatch3 = pd.DataFrame({'Rating': rating_sw3,'Review':review_sw3})\n",
    "smartwatch3.to_excel(r'/Users/juhimishra/Downloads/smartwatch3.xlsx', index = False)"
   ]
  },
  {
   "cell_type": "code",
   "execution_count": 3,
   "metadata": {},
   "outputs": [
    {
     "name": "stdout",
     "output_type": "stream",
     "text": [
      "480\n",
      "480\n"
     ]
    }
   ],
   "source": [
    "driver.get('https://www.flipkart.com/canon-eos-200d-ii-dslr-camera-ef-s18-55mm-stm/product-reviews/itm5d6e44f7fd976?pid=DLLFFNVDYGQN9XCS&lid=LSTDLLFFNVDYGQN9XCSDPECPX&marketplace=FLIPKART&page=1')\n",
    "\n",
    "rating_camera1 =[]\n",
    "review_camera1 =[]\n",
    "\n",
    "# Fetching detail for 1st Camera\n",
    "\n",
    "for i in range(1,49): # Loop for page range\n",
    "    \n",
    "    next_page = 'https://www.flipkart.com/canon-eos-200d-ii-dslr-camera-ef-s18-55mm-stm/product-reviews/itm5d6e44f7fd976?pid=DLLFFNVDYGQN9XCS&lid=LSTDLLFFNVDYGQN9XCSDPECPX&marketplace=FLIPKART&page='+str(i)\n",
    "    driver.get(next_page)\n",
    "    \n",
    "    time.sleep(1)\n",
    "    \n",
    "    for j in driver.find_elements_by_xpath('//div[@class=\"col _2wzgFH K0kLPL\"]/div[1]/div[1]'):\n",
    "        \n",
    "        rating_camera1.append(j.text)\n",
    "        \n",
    "    for a in driver.find_elements_by_xpath('//div[@class=\"col _2wzgFH K0kLPL\"]/div[1]/p'):\n",
    "        \n",
    "        review_camera1.append(a.text.replace(\"\\n\",\"\"))\n",
    "        \n",
    "    time.sleep(1)\n",
    "    \n",
    "# check length of fetched ratings and reviews\n",
    "\n",
    "print(len(rating_camera1))\n",
    "\n",
    "print(len(review_camera1))\n",
    "\n",
    "camera1 = pd.DataFrame({'Rating': rating_camera1,'Review':review_camera1})\n",
    "camera1.to_excel(r'/Users/juhimishra/Downloads/camera1.xlsx', index = False)"
   ]
  },
  {
   "cell_type": "code",
   "execution_count": 4,
   "metadata": {},
   "outputs": [
    {
     "name": "stdout",
     "output_type": "stream",
     "text": [
      "1770\n",
      "1770\n"
     ]
    }
   ],
   "source": [
    "driver.get('https://www.flipkart.com/canon-eos-1500d-dslr-camera-body-18-55-mm-ii-lens/product-reviews/itm033175ceb4ddd?pid=DLLFAEWE22ZAERXG&lid=LSTDLLFAEWE22ZAERXGWBJCOR&marketplace=FLIPKART&page=1')\n",
    "\n",
    "rating_camera2 =[]\n",
    "review_camera2 =[]\n",
    "\n",
    "# Fetching detail for 2nd Camera\n",
    "\n",
    "for i in range(1,178): # Loop for page range\n",
    "    \n",
    "    next_page = 'https://www.flipkart.com/canon-eos-1500d-dslr-camera-body-18-55-mm-ii-lens/product-reviews/itm033175ceb4ddd?pid=DLLFAEWE22ZAERXG&lid=LSTDLLFAEWE22ZAERXGWBJCOR&marketplace=FLIPKART&page='+str(i)\n",
    "    driver.get(next_page)\n",
    "    \n",
    "    time.sleep(1)\n",
    "    \n",
    "    for j in driver.find_elements_by_xpath('//div[@class=\"col _2wzgFH K0kLPL\"]/div[1]/div[1]'):\n",
    "        \n",
    "        rating_camera2.append(j.text)\n",
    "        \n",
    "    for a in driver.find_elements_by_xpath('//div[@class=\"col _2wzgFH K0kLPL\"]/div[1]/p'):\n",
    "        \n",
    "        review_camera2.append(a.text.replace(\"\\n\",\"\"))\n",
    "        \n",
    "    time.sleep(1)\n",
    "    \n",
    "# check length of fetched ratings and reviews\n",
    "\n",
    "print(len(rating_camera2))\n",
    "\n",
    "print(len(review_camera2))\n",
    "\n",
    "camera2 = pd.DataFrame({'Rating': rating_camera2,'Review':review_camera2})\n",
    "camera2.to_excel(r'/Users/juhimishra/Downloads/camera2.xlsx', index = False)"
   ]
  },
  {
   "cell_type": "code",
   "execution_count": 5,
   "metadata": {},
   "outputs": [
    {
     "name": "stdout",
     "output_type": "stream",
     "text": [
      "90\n",
      "90\n"
     ]
    }
   ],
   "source": [
    "driver.get('https://www.flipkart.com/canon-g3012-multi-function-wifi-color-printer-color-page-cost-0-21-rs-black-0-09-borderless-printing/product-reviews/itmf2qc6hhx4pkua?pid=PRNF2QC6BX5M9NAJ&lid=LSTPRNF2QC6BX5M9NAJGZLEW6&marketplace=FLIPKART&page=1')\n",
    "\n",
    "rating_printer1 =[]\n",
    "review_printer1 =[]\n",
    "\n",
    "# Fetching detail for 1st printer\n",
    "\n",
    "for i in range(1,81): # Loop for page range\n",
    "    \n",
    "    next_page = 'https://www.flipkart.com/canon-g3012-multi-function-wifi-color-printer-color-page-cost-0-21-rs-black-0-09-borderless-printing/product-reviews/itmf2qc6hhx4pkua?pid=PRNF2QC6BX5M9NAJ&lid=LSTPRNF2QC6BX5M9NAJGZLEW6&marketplace=FLIPKART&page=1'+str(i)\n",
    "    driver.get(next_page)\n",
    "    \n",
    "    time.sleep(1)\n",
    "    \n",
    "    for j in driver.find_elements_by_xpath('//div[@class=\"col _2wzgFH K0kLPL\"]/div[1]/div[1]'):\n",
    "        \n",
    "        rating_printer1.append(j.text)\n",
    "        \n",
    "    for a in driver.find_elements_by_xpath('//div[@class=\"col _2wzgFH K0kLPL\"]/div[1]/p'):\n",
    "        \n",
    "        review_printer1.append(a.text.replace(\"\\n\",\"\"))\n",
    "        \n",
    "    time.sleep(1)\n",
    "    \n",
    "# check length of fetched ratings and reviews\n",
    "\n",
    "print(len(rating_printer1))\n",
    "\n",
    "print(len(review_printer1))\n",
    "\n",
    "printer1 = pd.DataFrame({'Rating': rating_printer1,'Review':review_printer1})\n",
    "printer1.to_excel(r'/Users/juhimishra/Downloads/printer1.xlsx', index = False)"
   ]
  },
  {
   "cell_type": "code",
   "execution_count": 6,
   "metadata": {},
   "outputs": [
    {
     "name": "stdout",
     "output_type": "stream",
     "text": [
      "190\n",
      "190\n"
     ]
    }
   ],
   "source": [
    "driver.get('https://www.flipkart.com/hp-deskjet-ink-advantage-2335-multi-function-color-printer-color-page-cost-5-rs-black-1-65-rs/product-reviews/itma8ba5740fc705?pid=PRNFTXAWRFZQR7NA&lid=LSTPRNFTXAWRFZQR7NAUBW9L6&marketplace=FLIPKART&page=1')\n",
    "\n",
    "rating_printer2 =[]\n",
    "review_printer2 =[]\n",
    "\n",
    "# Fetching detail for 2nd printer\n",
    "\n",
    "for i in range(1,21): # Loop for page range\n",
    "    \n",
    "    next_page = 'https://www.flipkart.com/hp-deskjet-ink-advantage-2335-multi-function-color-printer-color-page-cost-5-rs-black-1-65-rs/product-reviews/itma8ba5740fc705?pid=PRNFTXAWRFZQR7NA&lid=LSTPRNFTXAWRFZQR7NAUBW9L6&marketplace=FLIPKART&page='+str(i)\n",
    "    driver.get(next_page)\n",
    "    \n",
    "    time.sleep(1)\n",
    "    \n",
    "    for j in driver.find_elements_by_xpath('//div[@class=\"col _2wzgFH K0kLPL\"]/div[1]/div[1]'):\n",
    "        \n",
    "        rating_printer2.append(j.text)\n",
    "        \n",
    "    for a in driver.find_elements_by_xpath('//div[@class=\"col _2wzgFH K0kLPL\"]/div[1]/p'):\n",
    "        \n",
    "        review_printer2.append(a.text.replace(\"\\n\",\"\"))\n",
    "        \n",
    "    time.sleep(1)\n",
    "    \n",
    "# check length of fetched ratings and reviews\n",
    "\n",
    "print(len(rating_printer2))\n",
    "\n",
    "print(len(review_printer2))\n",
    "\n",
    "printer2 = pd.DataFrame({'Rating': rating_printer2,'Review':review_printer2})\n",
    "printer2.to_excel(r'/Users/juhimishra/Downloads/printer2.xlsx', index = False)"
   ]
  },
  {
   "cell_type": "code",
   "execution_count": 7,
   "metadata": {
    "scrolled": true
   },
   "outputs": [
    {
     "name": "stdout",
     "output_type": "stream",
     "text": [
      "1130\n",
      "1130\n"
     ]
    }
   ],
   "source": [
    "driver.get('https://www.flipkart.com/hp-deskjet-2331-multi-function-color-printer-color-page-cost-8-rs-black-6-rs/product-reviews/itm5708dbe303a73?pid=PRNFTXAWZ9DZ2KHR&lid=LSTPRNFTXAWZ9DZ2KHRP7ZAXV&marketplace=FLIPKART&page=1')\n",
    "\n",
    "rating_printer3 =[]\n",
    "review_printer3 =[]\n",
    "\n",
    "# Fetching detail for 3rd printer\n",
    "\n",
    "for i in range(1,114): # Loop for page range\n",
    "    \n",
    "    next_page = 'https://www.flipkart.com/hp-deskjet-2331-multi-function-color-printer-color-page-cost-8-rs-black-6-rs/product-reviews/itm5708dbe303a73?pid=PRNFTXAWZ9DZ2KHR&lid=LSTPRNFTXAWZ9DZ2KHRP7ZAXV&marketplace=FLIPKART&page='+str(i)\n",
    "    driver.get(next_page)\n",
    "    \n",
    "    time.sleep(1)\n",
    "    \n",
    "    for j in driver.find_elements_by_xpath('//div[@class=\"col _2wzgFH K0kLPL\"]/div[1]/div[1]'):\n",
    "        \n",
    "        rating_printer3.append(j.text)\n",
    "        \n",
    "    for a in driver.find_elements_by_xpath('//div[@class=\"col _2wzgFH K0kLPL\"]/div[1]/p'):\n",
    "        \n",
    "        review_printer3.append(a.text.replace(\"\\n\",\"\"))\n",
    "        \n",
    "    time.sleep(1)\n",
    "    \n",
    "# check length of fetched ratings and reviews\n",
    "\n",
    "print(len(rating_printer3))\n",
    "\n",
    "print(len(review_printer3))\n",
    "\n",
    "printer3 = pd.DataFrame({'Rating': rating_printer3,'Review':review_printer3})\n",
    "printer3.to_excel(r'/Users/juhimishra/Downloads/printer3.xlsx', index = False)"
   ]
  },
  {
   "cell_type": "code",
   "execution_count": 8,
   "metadata": {},
   "outputs": [
    {
     "name": "stdout",
     "output_type": "stream",
     "text": [
      "199\n",
      "199\n"
     ]
    }
   ],
   "source": [
    "driver.get('https://www.flipkart.com/hp-1200a-multi-function-monochrome-laser-printer-black-page-cost-0-28-rs/product-reviews/itm7f337d1faa5fb?pid=PRNFRASKG3MUPQZB&lid=LSTPRNFRASKG3MUPQZBVBTTUJ&marketplace=FLIPKART&page=1')\n",
    "\n",
    "rating_printer4 =[]\n",
    "review_printer4 =[]\n",
    "\n",
    "# Fetching detail for 4th printer\n",
    "\n",
    "for i in range(1,21): # Loop for page range\n",
    "    \n",
    "    next_page = 'https://www.flipkart.com/hp-1200a-multi-function-monochrome-laser-printer-black-page-cost-0-28-rs/product-reviews/itm7f337d1faa5fb?pid=PRNFRASKG3MUPQZB&lid=LSTPRNFRASKG3MUPQZBVBTTUJ&marketplace=FLIPKART&page='+str(i)\n",
    "    driver.get(next_page)\n",
    "    \n",
    "    time.sleep(1)\n",
    "    \n",
    "    for j in driver.find_elements_by_xpath('//div[@class=\"col _2wzgFH K0kLPL\"]/div[1]/div[1]'):\n",
    "        \n",
    "        rating_printer4.append(j.text)\n",
    "        \n",
    "    for a in driver.find_elements_by_xpath('//div[@class=\"col _2wzgFH K0kLPL\"]/div[1]/p'):\n",
    "        \n",
    "        review_printer4.append(a.text.replace(\"\\n\",\"\"))\n",
    "        \n",
    "    time.sleep(1)\n",
    "    \n",
    "# check length of fetched ratings and reviews\n",
    "\n",
    "print(len(rating_printer4))\n",
    "\n",
    "print(len(review_printer4))\n",
    "\n",
    "printer4 = pd.DataFrame({'Rating': rating_printer4,'Review':review_printer4})\n",
    "printer4.to_excel(r'/Users/juhimishra/Downloads/printer4.xlsx', index = False)"
   ]
  },
  {
   "cell_type": "code",
   "execution_count": 3,
   "metadata": {},
   "outputs": [
    {
     "name": "stdout",
     "output_type": "stream",
     "text": [
      "960\n",
      "960\n"
     ]
    }
   ],
   "source": [
    "driver.get('https://www.flipkart.com/lg-24-inch-full-hd-led-backlit-ips-panel-white-colour-monitor-24mk600m/product-reviews/itmfb6jq2jgffrtj?pid=MONFB6JQFJEP7BZX&lid=LSTMONFB6JQFJEP7BZXOQNLTK&marketplace=FLIPKART&page=1')\n",
    "\n",
    "rating_monitor1 =[]\n",
    "review_monitor1 =[]\n",
    "\n",
    "# Fetching detail for 1st monitor\n",
    "\n",
    "for i in range(1,99): # Loop for page range\n",
    "    \n",
    "    next_page = 'https://www.flipkart.com/lg-24-inch-full-hd-led-backlit-ips-panel-white-colour-monitor-24mk600m/product-reviews/itmfb6jq2jgffrtj?pid=MONFB6JQFJEP7BZX&lid=LSTMONFB6JQFJEP7BZXOQNLTK&marketplace=FLIPKART&page='+str(i)\n",
    "    driver.get(next_page)\n",
    "    \n",
    "    time.sleep(1)\n",
    "    \n",
    "    for j in driver.find_elements_by_xpath('//div[@class=\"col _2wzgFH K0kLPL\"]/div[1]/div[1]'):\n",
    "        \n",
    "        rating_monitor1.append(j.text)\n",
    "        \n",
    "    for a in driver.find_elements_by_xpath('//div[@class=\"col _2wzgFH K0kLPL\"]/div[1]/p'):\n",
    "        \n",
    "        review_monitor1.append(a.text.replace(\"\\n\",\"\"))\n",
    "        \n",
    "    time.sleep(1)\n",
    "    \n",
    "# check length of fetched ratings and reviews\n",
    "\n",
    "print(len(rating_monitor1))\n",
    "\n",
    "print(len(review_monitor1))\n",
    "\n",
    "monitor1 = pd.DataFrame({'Rating': rating_monitor1,'Review':review_monitor1})\n",
    "monitor1.to_excel(r'/Users/juhimishra/Downloads/monitor1.xlsx', index = False)"
   ]
  },
  {
   "cell_type": "code",
   "execution_count": 4,
   "metadata": {},
   "outputs": [
    {
     "name": "stdout",
     "output_type": "stream",
     "text": [
      "546\n",
      "546\n"
     ]
    }
   ],
   "source": [
    "driver.get('https://www.flipkart.com/benq-27-inch-full-hd-led-backlit-ips-panel-monitor-gw2780/product-reviews/itm1b2d1797fe4be?pid=MONEXFVGBMHHDTPG&lid=LSTMONEXFVGBMHHDTPGQEUMVY&marketplace=FLIPKART&page=1')\n",
    "\n",
    "rating_monitor2 =[]\n",
    "review_monitor2 =[]\n",
    "\n",
    "# Fetching detail for 2nd monitor\n",
    "\n",
    "for i in range(1,57): # Loop for page range\n",
    "    \n",
    "    next_page = 'https://www.flipkart.com/benq-27-inch-full-hd-led-backlit-ips-panel-monitor-gw2780/product-reviews/itm1b2d1797fe4be?pid=MONEXFVGBMHHDTPG&lid=LSTMONEXFVGBMHHDTPGQEUMVY&marketplace=FLIPKART&page='+str(i)\n",
    "    driver.get(next_page)\n",
    "    \n",
    "    time.sleep(1)\n",
    "    \n",
    "    for j in driver.find_elements_by_xpath('//div[@class=\"col _2wzgFH K0kLPL\"]/div[1]/div[1]'):\n",
    "        \n",
    "        rating_monitor2.append(j.text)\n",
    "        \n",
    "    for a in driver.find_elements_by_xpath('//div[@class=\"col _2wzgFH K0kLPL\"]/div[1]/p'):\n",
    "        \n",
    "        review_monitor2.append(a.text.replace(\"\\n\",\"\"))\n",
    "        \n",
    "    time.sleep(1)\n",
    "    \n",
    "# check length of fetched ratings and reviews\n",
    "\n",
    "print(len(rating_monitor2))\n",
    "\n",
    "print(len(review_monitor2))\n",
    "\n",
    "monitor2 = pd.DataFrame({'Rating': rating_monitor2,'Review':review_monitor2})\n",
    "monitor2.to_excel(r'/Users/juhimishra/Downloads/monitor2.xlsx', index = False)"
   ]
  },
  {
   "cell_type": "code",
   "execution_count": 5,
   "metadata": {},
   "outputs": [
    {
     "name": "stdout",
     "output_type": "stream",
     "text": [
      "559\n",
      "559\n"
     ]
    }
   ],
   "source": [
    "driver.get('https://www.flipkart.com/lg-22-inch-full-hd-led-backlit-ips-panel-monitor-22mp68vq/product-reviews/itmety6nszghmbp4?pid=MONETY6MQUBYPSZC&lid=LSTMONETY6MQUBYPSZCQE1PSV&marketplace=FLIPKART&page=1')\n",
    "\n",
    "rating_monitor3 =[]\n",
    "review_monitor3 =[]\n",
    "\n",
    "# Fetching detail for 3rd monitor\n",
    "\n",
    "for i in range(1,57): # Loop for page range\n",
    "    \n",
    "    next_page = 'https://www.flipkart.com/lg-22-inch-full-hd-led-backlit-ips-panel-monitor-22mp68vq/product-reviews/itmety6nszghmbp4?pid=MONETY6MQUBYPSZC&lid=LSTMONETY6MQUBYPSZCQE1PSV&marketplace=FLIPKART&page='+str(i)\n",
    "    driver.get(next_page)\n",
    "    \n",
    "    time.sleep(1)\n",
    "    \n",
    "    for j in driver.find_elements_by_xpath('//div[@class=\"col _2wzgFH K0kLPL\"]/div[1]/div[1]'):\n",
    "        \n",
    "        rating_monitor3.append(j.text)\n",
    "        \n",
    "    for a in driver.find_elements_by_xpath('//div[@class=\"col _2wzgFH K0kLPL\"]/div[1]/p'):\n",
    "        \n",
    "        review_monitor3.append(a.text.replace(\"\\n\",\"\"))\n",
    "        \n",
    "    time.sleep(1)\n",
    "    \n",
    "# check length of fetched ratings and reviews\n",
    "\n",
    "print(len(rating_monitor3))\n",
    "\n",
    "print(len(review_monitor3))\n",
    "\n",
    "monitor3 = pd.DataFrame({'Rating': rating_monitor3,'Review':review_monitor3})\n",
    "monitor3.to_excel(r'/Users/juhimishra/Downloads/monitor3.xlsx', index = False)"
   ]
  },
  {
   "cell_type": "code",
   "execution_count": 6,
   "metadata": {},
   "outputs": [
    {
     "name": "stdout",
     "output_type": "stream",
     "text": [
      "2552\n",
      "2552\n"
     ]
    }
   ],
   "source": [
    "driver.get('https://www.flipkart.com/acer-19-5-inch-hd-led-backlit-tn-panel-monitor-v206hql/product-reviews/itmeygcwhszg2vfh?pid=MONEYGCHK5GHSN6B&lid=LSTMONEYGCHK5GHSN6BEC82ID&marketplace=FLIPKART&page=1')\n",
    "\n",
    "rating_monitor4 =[]\n",
    "review_monitor4 =[]\n",
    "\n",
    "# Fetching detail for 4th monitor\n",
    "\n",
    "for i in range(1,261): # Loop for page range\n",
    "    \n",
    "    next_page = 'https://www.flipkart.com/acer-19-5-inch-hd-led-backlit-tn-panel-monitor-v206hql/product-reviews/itmeygcwhszg2vfh?pid=MONEYGCHK5GHSN6B&lid=LSTMONEYGCHK5GHSN6BEC82ID&marketplace=FLIPKART&page='+str(i)\n",
    "    driver.get(next_page)\n",
    "    \n",
    "    time.sleep(1)\n",
    "    \n",
    "    for j in driver.find_elements_by_xpath('//div[@class=\"col _2wzgFH K0kLPL\"]/div[1]/div[1]'):\n",
    "        \n",
    "        rating_monitor4.append(j.text)\n",
    "        \n",
    "    for a in driver.find_elements_by_xpath('//div[@class=\"col _2wzgFH K0kLPL\"]/div[1]/p'):\n",
    "        \n",
    "        review_monitor4.append(a.text.replace(\"\\n\",\"\"))\n",
    "        \n",
    "    time.sleep(1)\n",
    "    \n",
    "# check length of fetched ratings and reviews\n",
    "\n",
    "print(len(rating_monitor4))\n",
    "\n",
    "print(len(review_monitor4))\n",
    "\n",
    "monitor4 = pd.DataFrame({'Rating': rating_monitor4,'Review':review_monitor4})\n",
    "monitor4.to_excel(r'/Users/juhimishra/Downloads/monitor4.xlsx', index = False)"
   ]
  },
  {
   "cell_type": "code",
   "execution_count": 8,
   "metadata": {},
   "outputs": [
    {
     "name": "stdout",
     "output_type": "stream",
     "text": [
      "6339\n",
      "6339\n"
     ]
    }
   ],
   "source": [
    "driver.get('https://www.flipkart.com/zebronics-bt4440-rucf-60-watt-bluetooth-home-theatre/product-reviews/itm64f4909b3a65a?pid=ACCEA25DZGJUCYYH&lid=LSTACCEA25DZGJUCYYHGWTIFY&marketplace=FLIPKART&page=1')\n",
    "\n",
    "rating_ht1 =[]\n",
    "review_ht1 =[]\n",
    "\n",
    "# Fetching detail for 1st Home theatre\n",
    "\n",
    "for i in range(1,684): # Loop for page range\n",
    "    \n",
    "    next_page = 'https://www.flipkart.com/zebronics-bt4440-rucf-60-watt-bluetooth-home-theatre/product-reviews/itm64f4909b3a65a?pid=ACCEA25DZGJUCYYH&lid=LSTACCEA25DZGJUCYYHGWTIFY&marketplace=FLIPKART&page='+str(i)\n",
    "    driver.get(next_page)\n",
    "    \n",
    "    time.sleep(1)\n",
    "    \n",
    "    for j in driver.find_elements_by_xpath('//div[@class=\"col _2wzgFH K0kLPL\"]/div[1]/div[1]'):\n",
    "        \n",
    "        rating_ht1.append(j.text)\n",
    "        \n",
    "    for a in driver.find_elements_by_xpath('//div[@class=\"col _2wzgFH K0kLPL\"]/div[1]/p'):\n",
    "        \n",
    "        review_ht1.append(a.text.replace(\"\\n\",\"\"))\n",
    "        \n",
    "    time.sleep(1)\n",
    "    \n",
    "# check length of fetched ratings and reviews\n",
    "\n",
    "print(len(rating_ht1))\n",
    "\n",
    "print(len(review_ht1))\n",
    "\n",
    "ht1 = pd.DataFrame({'Rating': rating_ht1,'Review':review_ht1})\n",
    "ht1.to_excel(r'/Users/juhimishra/Downloads/hometheatre1.xlsx', index = False)"
   ]
  },
  {
   "cell_type": "code",
   "execution_count": 10,
   "metadata": {},
   "outputs": [
    {
     "name": "stdout",
     "output_type": "stream",
     "text": [
      "6303\n",
      "6303\n"
     ]
    }
   ],
   "source": [
    "driver.get('https://www.flipkart.com/zebronics-bt4440-rucf-60-watt-bluetooth-home-theatre/product-reviews/itm64f4909b3a65a?pid=ACCEA25DZGJUCYYH&lid=LSTACCEA25DZGJUCYYHGWTIFY&marketplace=FLIPKART&page=1')\n",
    "\n",
    "rating_ht2 =[]\n",
    "review_ht2 =[]\n",
    "\n",
    "# Fetching detail for 2nd Home theatre\n",
    "\n",
    "for i in range(1,684): # Loop for page range\n",
    "    \n",
    "    next_page = 'https://www.flipkart.com/zebronics-bt4440-rucf-60-watt-bluetooth-home-theatre/product-reviews/itm64f4909b3a65a?pid=ACCEA25DZGJUCYYH&lid=LSTACCEA25DZGJUCYYHGWTIFY&marketplace=FLIPKART&page='+str(i)\n",
    "    driver.get(next_page)\n",
    "    \n",
    "    time.sleep(1)\n",
    "    \n",
    "    for j in driver.find_elements_by_xpath('//div[@class=\"col _2wzgFH K0kLPL\"]/div[1]/div[1]'):\n",
    "        \n",
    "        rating_ht2.append(j.text)\n",
    "        \n",
    "    for a in driver.find_elements_by_xpath('//div[@class=\"col _2wzgFH K0kLPL\"]/div[1]/p'):\n",
    "        \n",
    "        review_ht2.append(a.text.replace(\"\\n\",\"\"))\n",
    "        \n",
    "    time.sleep(1)\n",
    "    \n",
    "# check length of fetched ratings and reviews\n",
    "\n",
    "print(len(rating_ht2))\n",
    "\n",
    "print(len(review_ht2))\n",
    "\n",
    "ht2 = pd.DataFrame({'Rating': rating_ht2,'Review':review_ht2})\n",
    "ht2.to_excel(r'/Users/juhimishra/Downloads/hometheatre2.xlsx', index = False)"
   ]
  },
  {
   "cell_type": "code",
   "execution_count": 11,
   "metadata": {},
   "outputs": [
    {
     "name": "stdout",
     "output_type": "stream",
     "text": [
      "2913\n",
      "2913\n"
     ]
    }
   ],
   "source": [
    "driver.get('https://www.flipkart.com/intex-it-2616-bt-55-w-bluetooth-home-theatre/product-reviews/itm1338b5084a829?pid=ACCFNMEYJNHSNCWN&lid=LSTACCFNMEYJNHSNCWNXWFCRW&marketplace=FLIPKART&page=1')\n",
    "\n",
    "rating_ht3 =[]\n",
    "review_ht3 =[]\n",
    "\n",
    "# Fetching detail for 3rd Home theatre\n",
    "\n",
    "for i in range(1,684): # Loop for page range\n",
    "    \n",
    "    next_page = 'https://www.flipkart.com/intex-it-2616-bt-55-w-bluetooth-home-theatre/product-reviews/itm1338b5084a829?pid=ACCFNMEYJNHSNCWN&lid=LSTACCFNMEYJNHSNCWNXWFCRW&marketplace=FLIPKART&page='+str(i)\n",
    "    driver.get(next_page)\n",
    "    \n",
    "    time.sleep(1)\n",
    "    \n",
    "    for j in driver.find_elements_by_xpath('//div[@class=\"col _2wzgFH K0kLPL\"]/div[1]/div[1]'):\n",
    "        \n",
    "        rating_ht3.append(j.text)\n",
    "        \n",
    "    for a in driver.find_elements_by_xpath('//div[@class=\"col _2wzgFH K0kLPL\"]/div[1]/p'):\n",
    "        \n",
    "        review_ht3.append(a.text.replace(\"\\n\",\"\"))\n",
    "        \n",
    "    time.sleep(1)\n",
    "    \n",
    "# check length of fetched ratings and reviews\n",
    "\n",
    "print(len(rating_ht3))\n",
    "\n",
    "print(len(review_ht3))\n",
    "\n",
    "ht3 = pd.DataFrame({'Rating': rating_ht3,'Review':review_ht3})\n",
    "ht3.to_excel(r'/Users/juhimishra/Downloads/hometheatre3.xlsx', index = False)"
   ]
  },
  {
   "cell_type": "code",
   "execution_count": 3,
   "metadata": {},
   "outputs": [
    {
     "name": "stdout",
     "output_type": "stream",
     "text": [
      "1817\n",
      "1817\n"
     ]
    }
   ],
   "source": [
    "driver.get('https://www.flipkart.com/zebronics-indie-105-w-bluetooth-home-theatre/product-reviews/itm425bfd9d619b7?pid=ACCF3BHUWH7EBV78&lid=LSTACCF3BHUWH7EBV78LPUEHH&marketplace=FLIPKART&page=1')\n",
    "\n",
    "rating_ht4 =[]\n",
    "review_ht4 =[]\n",
    "\n",
    "# Fetching detail for 4th Home theatre\n",
    "\n",
    "for i in range(1,196): # Loop for page range\n",
    "    \n",
    "    next_page = 'https://www.flipkart.com/zebronics-indie-105-w-bluetooth-home-theatre/product-reviews/itm425bfd9d619b7?pid=ACCF3BHUWH7EBV78&lid=LSTACCF3BHUWH7EBV78LPUEHH&marketplace=FLIPKART&page='+str(i)\n",
    "    driver.get(next_page)\n",
    "    \n",
    "    time.sleep(1)\n",
    "    \n",
    "    for j in driver.find_elements_by_xpath('//div[@class=\"col _2wzgFH K0kLPL\"]/div[1]/div[1]'):\n",
    "        \n",
    "        rating_ht4.append(j.text)\n",
    "        \n",
    "    for a in driver.find_elements_by_xpath('//div[@class=\"col _2wzgFH K0kLPL\"]/div[1]/p'):\n",
    "        \n",
    "        review_ht4.append(a.text.replace(\"\\n\",\"\"))\n",
    "        \n",
    "    time.sleep(1)\n",
    "    \n",
    "# check length of fetched ratings and reviews\n",
    "\n",
    "print(len(rating_ht4))\n",
    "\n",
    "print(len(review_ht4))\n",
    "\n",
    "ht4 = pd.DataFrame({'Rating': rating_ht4,'Review':review_ht4})\n",
    "ht4.to_excel(r'/Users/juhimishra/Downloads/hometheatre4.xlsx', index = False)"
   ]
  },
  {
   "cell_type": "code",
   "execution_count": 5,
   "metadata": {},
   "outputs": [
    {
     "name": "stdout",
     "output_type": "stream",
     "text": [
      "3222\n",
      "3222\n"
     ]
    }
   ],
   "source": [
    "driver.get('https://www.flipkart.com/tp-link-archer-c20-ac-wifi-750-mbps-wireless-router/product-reviews/itmc7d65de184124?pid=RTRE8GKF2CUJ2GNN&lid=LSTRTRE8GKF2CUJ2GNNA9BJX3&marketplace=FLIPKART&page=1')\n",
    "\n",
    "rating_router1 =[]\n",
    "review_router1 =[]\n",
    "\n",
    "# Fetching detail for 1st router\n",
    "\n",
    "for i in range(1,333): # Loop for page range\n",
    "    \n",
    "    next_page = 'https://www.flipkart.com/tp-link-archer-c20-ac-wifi-750-mbps-wireless-router/product-reviews/itmc7d65de184124?pid=RTRE8GKF2CUJ2GNN&lid=LSTRTRE8GKF2CUJ2GNNA9BJX3&marketplace=FLIPKART&page='+str(i)\n",
    "    driver.get(next_page)\n",
    "    \n",
    "    time.sleep(1)\n",
    "    \n",
    "    for j in driver.find_elements_by_xpath('//div[@class=\"col _2wzgFH K0kLPL\"]/div[1]/div[1]'):\n",
    "        \n",
    "        rating_router1.append(j.text)\n",
    "        \n",
    "    for a in driver.find_elements_by_xpath('//div[@class=\"col _2wzgFH K0kLPL\"]/div[1]/p'):\n",
    "        \n",
    "        review_router1.append(a.text.replace(\"\\n\",\"\"))\n",
    "        \n",
    "    time.sleep(1)\n",
    "    \n",
    "# check length of fetched ratings and reviews\n",
    "\n",
    "print(len(rating_router1))\n",
    "\n",
    "print(len(review_router1))\n",
    "\n",
    "router1 = pd.DataFrame({'Rating': rating_router1,'Review':review_router1})\n",
    "router1.to_excel(r'/Users/juhimishra/Downloads/router1.xlsx', index = False)"
   ]
  },
  {
   "cell_type": "code",
   "execution_count": 6,
   "metadata": {},
   "outputs": [
    {
     "name": "stdout",
     "output_type": "stream",
     "text": [
      "5178\n",
      "5178\n"
     ]
    }
   ],
   "source": [
    "driver.get('https://www.flipkart.com/d-link-dir-819-750-mbps-wireless-router/product-reviews/itmff2hynmhzhtqa?pid=RTRFF2HYYUYHCGGK&lid=LSTRTRFF2HYYUYHCGGKB3BKOG&marketplace=FLIPKART&page=1')\n",
    "\n",
    "rating_router2 =[]\n",
    "review_router2 =[]\n",
    "\n",
    "# Fetching detail for 2nd router\n",
    "\n",
    "for i in range(1,553): # Loop for page range\n",
    "    \n",
    "    next_page = 'https://www.flipkart.com/d-link-dir-819-750-mbps-wireless-router/product-reviews/itmff2hynmhzhtqa?pid=RTRFF2HYYUYHCGGK&lid=LSTRTRFF2HYYUYHCGGKB3BKOG&marketplace=FLIPKART&page='+str(i)\n",
    "    driver.get(next_page)\n",
    "    \n",
    "    time.sleep(1)\n",
    "    \n",
    "    for j in driver.find_elements_by_xpath('//div[@class=\"col _2wzgFH K0kLPL\"]/div[1]/div[1]'):\n",
    "        \n",
    "        rating_router2.append(j.text)\n",
    "        \n",
    "    for a in driver.find_elements_by_xpath('//div[@class=\"col _2wzgFH K0kLPL\"]/div[1]/p'):\n",
    "        \n",
    "        review_router2.append(a.text.replace(\"\\n\",\"\"))\n",
    "        \n",
    "    time.sleep(1)\n",
    "    \n",
    "# check length of fetched ratings and reviews\n",
    "\n",
    "print(len(rating_router2))\n",
    "\n",
    "print(len(review_router2))\n",
    "\n",
    "router2 = pd.DataFrame({'Rating': rating_router2,'Review':review_router2})\n",
    "router2.to_excel(r'/Users/juhimishra/Downloads/router2.xlsx', index = False)"
   ]
  },
  {
   "cell_type": "code",
   "execution_count": 7,
   "metadata": {},
   "outputs": [
    {
     "name": "stdout",
     "output_type": "stream",
     "text": [
      "1696\n",
      "1696\n"
     ]
    }
   ],
   "source": [
    "driver.get('https://www.flipkart.com/tp-link-tl-wa850re-in-300-mbps-wifi-range-extender/product-reviews/itmbb26f024f7e15?pid=RTRDP2GSBX4AF7FK&lid=LSTRTRDP2GSBX4AF7FKPNVLBV&marketplace=FLIPKART&page=1')\n",
    "\n",
    "rating_router3 =[]\n",
    "review_router3 =[]\n",
    "\n",
    "# Fetching detail for 3rd router\n",
    "\n",
    "for i in range(1,182): # Loop for page range\n",
    "    \n",
    "    next_page = 'https://www.flipkart.com/tp-link-tl-wa850re-in-300-mbps-wifi-range-extender/product-reviews/itmbb26f024f7e15?pid=RTRDP2GSBX4AF7FK&lid=LSTRTRDP2GSBX4AF7FKPNVLBV&marketplace=FLIPKART&page='+str(i)\n",
    "    driver.get(next_page)\n",
    "    \n",
    "    time.sleep(1)\n",
    "    \n",
    "    for j in driver.find_elements_by_xpath('//div[@class=\"col _2wzgFH K0kLPL\"]/div[1]/div[1]'):\n",
    "        \n",
    "        rating_router3.append(j.text)\n",
    "        \n",
    "    for a in driver.find_elements_by_xpath('//div[@class=\"col _2wzgFH K0kLPL\"]/div[1]/p'):\n",
    "        \n",
    "        review_router3.append(a.text.replace(\"\\n\",\"\"))\n",
    "        \n",
    "    time.sleep(1)\n",
    "    \n",
    "# check length of fetched ratings and reviews\n",
    "\n",
    "print(len(rating_router3))\n",
    "\n",
    "print(len(review_router3))\n",
    "\n",
    "router3 = pd.DataFrame({'Rating': rating_router3,'Review':review_router3})\n",
    "router3.to_excel(r'/Users/juhimishra/Downloads/router3.xlsx', index = False)"
   ]
  },
  {
   "cell_type": "code",
   "execution_count": 8,
   "metadata": {
    "scrolled": true
   },
   "outputs": [
    {
     "name": "stdout",
     "output_type": "stream",
     "text": [
      "1755\n",
      "1755\n"
     ]
    }
   ],
   "source": [
    "driver.get('https://www.flipkart.com/d-link-dir-615-wireless-n-300-router/product-reviews/itme3xwg9x9jgsyh?pid=RTRE3XW76EHCJUGH&lid=LSTRTRE3XW76EHCJUGHL3JOYL&marketplace=FLIPKART&page=1')\n",
    "\n",
    "rating_router4 =[]\n",
    "review_router4 =[]\n",
    "\n",
    "# Fetching detail for 4th router\n",
    "\n",
    "for i in range(1,182): # Loop for page range\n",
    "    \n",
    "    next_page = 'https://www.flipkart.com/d-link-dir-615-wireless-n-300-router/product-reviews/itme3xwg9x9jgsyh?pid=RTRE3XW76EHCJUGH&lid=LSTRTRE3XW76EHCJUGHL3JOYL&marketplace=FLIPKART&page='+str(i)\n",
    "    driver.get(next_page)\n",
    "    \n",
    "    time.sleep(1)\n",
    "    \n",
    "    for j in driver.find_elements_by_xpath('//div[@class=\"col _2wzgFH K0kLPL\"]/div[1]/div[1]'):\n",
    "        \n",
    "        rating_router4.append(j.text)\n",
    "        \n",
    "    for a in driver.find_elements_by_xpath('//div[@class=\"col _2wzgFH K0kLPL\"]/div[1]/p'):\n",
    "        \n",
    "        review_router4.append(a.text.replace(\"\\n\",\"\"))\n",
    "        \n",
    "    time.sleep(1)\n",
    "    \n",
    "# check length of fetched ratings and reviews\n",
    "\n",
    "print(len(rating_router4))\n",
    "\n",
    "print(len(review_router4))\n",
    "\n",
    "router4 = pd.DataFrame({'Rating': rating_router4,'Review':review_router4})\n",
    "router4.to_excel(r'/Users/juhimishra/Downloads/router4.xlsx', index = False)"
   ]
  },
  {
   "cell_type": "code",
   "execution_count": 9,
   "metadata": {},
   "outputs": [
    {
     "name": "stdout",
     "output_type": "stream",
     "text": [
      "2656\n",
      "2656\n"
     ]
    }
   ],
   "source": [
    "driver.get('https://www.flipkart.com/d-link-dir-615-wireless-n-300-router/product-reviews/itme3xwg9x9jgsyh?pid=RTRE3XW76EHCJUGH&lid=LSTRTRE3XW76EHCJUGHL3JOYL&marketplace=FLIPKART&page=1')\n",
    "\n",
    "rating_router4 =[]\n",
    "review_router4 =[]\n",
    "\n",
    "# Fetching detail for 4th router\n",
    "\n",
    "for i in range(183,454): # Loop for page range\n",
    "    \n",
    "    next_page = 'https://www.flipkart.com/d-link-dir-615-wireless-n-300-router/product-reviews/itme3xwg9x9jgsyh?pid=RTRE3XW76EHCJUGH&lid=LSTRTRE3XW76EHCJUGHL3JOYL&marketplace=FLIPKART&page='+str(i)\n",
    "    driver.get(next_page)\n",
    "    \n",
    "    time.sleep(1)\n",
    "    \n",
    "    for j in driver.find_elements_by_xpath('//div[@class=\"col _2wzgFH K0kLPL\"]/div[1]/div[1]'):\n",
    "        \n",
    "        rating_router4.append(j.text)\n",
    "        \n",
    "    for a in driver.find_elements_by_xpath('//div[@class=\"col _2wzgFH K0kLPL\"]/div[1]/p'):\n",
    "        \n",
    "        review_router4.append(a.text.replace(\"\\n\",\"\"))\n",
    "        \n",
    "    time.sleep(1)\n",
    "    \n",
    "# check length of fetched ratings and reviews\n",
    "\n",
    "print(len(rating_router4))\n",
    "\n",
    "print(len(review_router4))\n",
    "\n",
    "router4 = pd.DataFrame({'Rating': rating_router4,'Review':review_router4})\n",
    "router4.to_excel(r'/Users/juhimishra/Downloads/router4.xlsx', index = False)"
   ]
  },
  {
   "cell_type": "code",
   "execution_count": 10,
   "metadata": {
    "scrolled": false
   },
   "outputs": [
    {
     "name": "stdout",
     "output_type": "stream",
     "text": [
      "1721\n",
      "1721\n"
     ]
    }
   ],
   "source": [
    "driver.get('https://www.flipkart.com/tp-link-tl-wr840n-wi-fi-300-mbps-wireless-router/product-reviews/itm3fc8c8aa6cb89?pid=RTREDWYNBGRFF6SX&lid=LSTRTREDWYNBGRFF6SXGGV1MV&marketplace=FLIPKART&page=1')\n",
    "\n",
    "rating_router5 =[]\n",
    "review_router5 =[]\n",
    "\n",
    "# Fetching detail for 5th router\n",
    "\n",
    "for i in range(1,182): # Loop for page range\n",
    "    \n",
    "    next_page = 'https://www.flipkart.com/tp-link-tl-wr840n-wi-fi-300-mbps-wireless-router/product-reviews/itm3fc8c8aa6cb89?pid=RTREDWYNBGRFF6SX&lid=LSTRTREDWYNBGRFF6SXGGV1MV&marketplace=FLIPKART&page='+str(i)\n",
    "    driver.get(next_page)\n",
    "    \n",
    "    time.sleep(1)\n",
    "    \n",
    "    for j in driver.find_elements_by_xpath('//div[@class=\"col _2wzgFH K0kLPL\"]/div[1]/div[1]'):\n",
    "        \n",
    "        rating_router5.append(j.text)\n",
    "        \n",
    "    for a in driver.find_elements_by_xpath('//div[@class=\"col _2wzgFH K0kLPL\"]/div[1]/p'):\n",
    "        \n",
    "        review_router5.append(a.text.replace(\"\\n\",\"\"))\n",
    "        \n",
    "    time.sleep(1)\n",
    "    \n",
    "# check length of fetched ratings and reviews\n",
    "\n",
    "print(len(rating_router5))\n",
    "\n",
    "print(len(review_router5))\n",
    "\n",
    "router5 = pd.DataFrame({'Rating': rating_router5,'Review':review_router5})\n",
    "router5.to_excel(r'/Users/juhimishra/Downloads/router5.xlsx', index = False)"
   ]
  },
  {
   "cell_type": "code",
   "execution_count": 11,
   "metadata": {},
   "outputs": [
    {
     "name": "stdout",
     "output_type": "stream",
     "text": [
      "990\n",
      "990\n"
     ]
    }
   ],
   "source": [
    "driver.get('https://www.flipkart.com/d-link-dsl-2730u-wireless-n-150-adsl2-router/product-reviews/itmd2a5352uprbfx?pid=RTRD2A52ZSUQ3ZFE&lid=LSTRTRD2A52ZSUQ3ZFEVXM1DA&marketplace=FLIPKART&page=1')\n",
    "\n",
    "rating_router6 =[]\n",
    "review_router6 =[]\n",
    "\n",
    "# Fetching detail for 6th router\n",
    "\n",
    "for i in range(1,103): # Loop for page range\n",
    "    \n",
    "    next_page = 'https://www.flipkart.com/d-link-dsl-2730u-wireless-n-150-adsl2-router/product-reviews/itmd2a5352uprbfx?pid=RTRD2A52ZSUQ3ZFE&lid=LSTRTRD2A52ZSUQ3ZFEVXM1DA&marketplace=FLIPKART&page='+str(i)\n",
    "    driver.get(next_page)\n",
    "    \n",
    "    time.sleep(1)\n",
    "    \n",
    "    for j in driver.find_elements_by_xpath('//div[@class=\"col _2wzgFH K0kLPL\"]/div[1]/div[1]'):\n",
    "        \n",
    "        rating_router6.append(j.text)\n",
    "        \n",
    "    for a in driver.find_elements_by_xpath('//div[@class=\"col _2wzgFH K0kLPL\"]/div[1]/p'):\n",
    "        \n",
    "        review_router6.append(a.text.replace(\"\\n\",\"\"))\n",
    "        \n",
    "    time.sleep(1)\n",
    "    \n",
    "# check length of fetched ratings and reviews\n",
    "\n",
    "print(len(rating_router6))\n",
    "\n",
    "print(len(review_router6))\n",
    "\n",
    "router6 = pd.DataFrame({'Rating': rating_router6,'Review':review_router6})\n",
    "router6.to_excel(r'/Users/juhimishra/Downloads/router6.xlsx', index = False)"
   ]
  },
  {
   "cell_type": "code",
   "execution_count": 12,
   "metadata": {},
   "outputs": [
    {
     "name": "stdout",
     "output_type": "stream",
     "text": [
      "5518\n",
      "5518\n"
     ]
    }
   ],
   "source": [
    "driver.get('https://www.flipkart.com/thomson-oathpro-series-189-cm-75-inch-ultra-hd-4k-led-smart-android-tv-dolby-digital-plus-dts-trusurround/product-reviews/itmd61c209f5fa16?pid=TVSFUYGQTGAHCNTN&lid=LSTTVSFUYGQTGAHCNTNKNFWPK&marketplace=FLIPKART&page=1')\n",
    "\n",
    "rating_tv1 =[]\n",
    "review_tv1 =[]\n",
    "\n",
    "# Fetching detail for 1st tv\n",
    "\n",
    "for i in range(1,573): # Loop for page range\n",
    "    \n",
    "    next_page = 'https://www.flipkart.com/thomson-oathpro-series-189-cm-75-inch-ultra-hd-4k-led-smart-android-tv-dolby-digital-plus-dts-trusurround/product-reviews/itmd61c209f5fa16?pid=TVSFUYGQTGAHCNTN&lid=LSTTVSFUYGQTGAHCNTNKNFWPK&marketplace=FLIPKART&page='+str(i)\n",
    "    driver.get(next_page)\n",
    "    \n",
    "    time.sleep(1)\n",
    "    \n",
    "    for j in driver.find_elements_by_xpath('//div[@class=\"col _2wzgFH K0kLPL\"]/div[1]/div[1]'):\n",
    "        \n",
    "        rating_tv1.append(j.text)\n",
    "        \n",
    "    for a in driver.find_elements_by_xpath('//div[@class=\"col _2wzgFH K0kLPL\"]/div[1]/p'):\n",
    "        \n",
    "        review_tv1.append(a.text.replace(\"\\n\",\"\"))\n",
    "        \n",
    "    time.sleep(1)\n",
    "    \n",
    "# check length of fetched ratings and reviews\n",
    "\n",
    "print(len(rating_tv1))\n",
    "\n",
    "print(len(review_tv1))\n",
    "\n",
    "tv1 = pd.DataFrame({'Rating': rating_tv1,'Review':review_tv1})\n",
    "tv1.to_excel(r'/Users/juhimishra/Downloads/tv1.xlsx', index = False)"
   ]
  },
  {
   "cell_type": "code",
   "execution_count": 17,
   "metadata": {
    "scrolled": true
   },
   "outputs": [
    {
     "name": "stdout",
     "output_type": "stream",
     "text": [
      "9869\n",
      "9869\n"
     ]
    }
   ],
   "source": [
    "driver.get('https://www.flipkart.com/mi-4a-pro-80-cm-32-inch-hd-ready-led-smart-android-tv/product-reviews/itmfdwh5jyqhmvzg?pid=TVSG22C4DXQRVSTT&lid=LSTTVSG22C4DXQRVSTTJZD2M0&marketplace=FLIPKART&page=1')\n",
    "\n",
    "rating_tv2 =[]\n",
    "review_tv2 =[]\n",
    "\n",
    "# Fetching detail for 2nd tv\n",
    "\n",
    "for i in range(1,6625): # Loop for page range\n",
    "    \n",
    "    next_page = 'https://www.flipkart.com/mi-4a-pro-80-cm-32-inch-hd-ready-led-smart-android-tv/product-reviews/itmfdwh5jyqhmvzg?pid=TVSG22C4DXQRVSTT&lid=LSTTVSG22C4DXQRVSTTJZD2M0&marketplace=FLIPKART&page='+str(i)\n",
    "    driver.get(next_page)\n",
    "    \n",
    "    time.sleep(1)\n",
    "    \n",
    "    for j in driver.find_elements_by_xpath('//div[@class=\"col _2wzgFH K0kLPL\"]/div[1]/div[1]'):\n",
    "        \n",
    "        rating_tv2.append(j.text)\n",
    "        \n",
    "    for a in driver.find_elements_by_xpath('//div[@class=\"col _2wzgFH K0kLPL\"]/div[1]/p'):\n",
    "        \n",
    "        review_tv2.append(a.text.replace(\"\\n\",\"\"))\n",
    "        \n",
    "    time.sleep(1)\n",
    "    \n",
    "# check length of fetched ratings and reviews\n",
    "\n",
    "print(len(rating_tv2))\n",
    "\n",
    "print(len(review_tv2))\n",
    "\n",
    "tv2 = pd.DataFrame({'Rating': rating_tv2,'Review':review_tv2})\n",
    "tv2.to_excel(r'/Users/juhimishra/Downloads/tv2.xlsx', index = False)"
   ]
  },
  {
   "cell_type": "code",
   "execution_count": 22,
   "metadata": {},
   "outputs": [
    {
     "name": "stdout",
     "output_type": "stream",
     "text": [
      "5760\n",
      "5760\n"
     ]
    }
   ],
   "source": [
    "driver.get('https://www.flipkart.com/oneplus-y-series-100-cm-40-inch-full-hd-led-smart-android-tv/product-reviews/itmdcbd9784403b2?pid=TVSG25MMGB8NKFD8&lid=LSTTVSG25MMGB8NKFD8MWAMJF&marketplace=FLIPKART&page=1')\n",
    "\n",
    "rating_tv3 =[]\n",
    "review_tv3 =[]\n",
    "\n",
    "# Fetching detail for 3rd tv\n",
    "\n",
    "for i in range(1,583): # Loop for page range\n",
    "    \n",
    "    next_page = 'https://www.flipkart.com/oneplus-y-series-100-cm-40-inch-full-hd-led-smart-android-tv/product-reviews/itmdcbd9784403b2?pid=TVSG25MMGB8NKFD8&lid=LSTTVSG25MMGB8NKFD8MWAMJF&marketplace=FLIPKART&page='+str(i)\n",
    "    driver.get(next_page)\n",
    "    \n",
    "    time.sleep(1)\n",
    "    \n",
    "    for j in driver.find_elements_by_xpath('//div[@class=\"col _2wzgFH K0kLPL\"]/div[1]/div[1]'):\n",
    "        \n",
    "        rating_tv3.append(j.text)\n",
    "        \n",
    "    for a in driver.find_elements_by_xpath('//div[@class=\"col _2wzgFH K0kLPL\"]/div[1]/p'):\n",
    "        \n",
    "        review_tv3.append(a.text.replace(\"\\n\",\"\"))\n",
    "        \n",
    "    time.sleep(1)\n",
    "    \n",
    "# check length of fetched ratings and reviews\n",
    "\n",
    "print(len(rating_tv3))\n",
    "\n",
    "print(len(review_tv3))\n",
    "\n",
    "tv3 = pd.DataFrame({'Rating': rating_tv3,'Review':review_tv3})\n",
    "tv3.to_excel(r'/Users/juhimishra/Downloads/tv3.xlsx', index = False)"
   ]
  },
  {
   "cell_type": "code",
   "execution_count": 23,
   "metadata": {
    "scrolled": true
   },
   "outputs": [
    {
     "name": "stdout",
     "output_type": "stream",
     "text": [
      "4091\n",
      "4091\n"
     ]
    }
   ],
   "source": [
    "driver.get('https://www.flipkart.com/samsung-80-cm-32-inch-hd-ready-led-smart-tv/product-reviews/itm6e40262f4572a?pid=TVSFQXFKMHUDYCJ3&lid=LSTTVSFQXFKMHUDYCJ3IOJXHJ&marketplace=FLIPKART&page=1')\n",
    "\n",
    "rating_tv4 =[]\n",
    "review_tv4 =[]\n",
    "\n",
    "# Fetching detail for 4th tv\n",
    "\n",
    "for i in range(1,583): # Loop for page range\n",
    "    \n",
    "    next_page = 'https://www.flipkart.com/samsung-80-cm-32-inch-hd-ready-led-smart-tv/product-reviews/itm6e40262f4572a?pid=TVSFQXFKMHUDYCJ3&lid=LSTTVSFQXFKMHUDYCJ3IOJXHJ&marketplace=FLIPKART&page='+str(i)\n",
    "    driver.get(next_page)\n",
    "    \n",
    "    time.sleep(1)\n",
    "    \n",
    "    for j in driver.find_elements_by_xpath('//div[@class=\"col _2wzgFH K0kLPL\"]/div[1]/div[1]'):\n",
    "        \n",
    "        rating_tv4.append(j.text)\n",
    "        \n",
    "    for a in driver.find_elements_by_xpath('//div[@class=\"col _2wzgFH K0kLPL\"]/div[1]/p'):\n",
    "        \n",
    "        review_tv4.append(a.text.replace(\"\\n\",\"\"))\n",
    "        \n",
    "    time.sleep(1)\n",
    "    \n",
    "# check length of fetched ratings and reviews\n",
    "\n",
    "print(len(rating_tv4))\n",
    "\n",
    "print(len(review_tv4))\n",
    "\n",
    "tv4 = pd.DataFrame({'Rating': rating_tv4,'Review':review_tv4})\n",
    "tv4.to_excel(r'/Users/juhimishra/Downloads/tv4.xlsx', index = False)"
   ]
  },
  {
   "cell_type": "code",
   "execution_count": 24,
   "metadata": {},
   "outputs": [
    {
     "name": "stdout",
     "output_type": "stream",
     "text": [
      "7234\n",
      "7234\n"
     ]
    }
   ],
   "source": [
    "driver.get('https://www.flipkart.com/thomson-r9-60-cm-24-inch-hd-ready-led-tv/product-reviews/itmf66gtcfpfu4jy?pid=TVSF66GTGDHUNH8T&lid=LSTTVSF66GTGDHUNH8TEHGOJV&marketplace=FLIPKART&page=1')\n",
    "\n",
    "rating_tv5 =[]\n",
    "review_tv5 =[]\n",
    "\n",
    "# Fetching detail for 5th tv\n",
    "\n",
    "for i in range(1,726): # Loop for page range\n",
    "    \n",
    "    next_page = 'https://www.flipkart.com/thomson-r9-60-cm-24-inch-hd-ready-led-tv/product-reviews/itmf66gtcfpfu4jy?pid=TVSF66GTGDHUNH8T&lid=LSTTVSF66GTGDHUNH8TEHGOJV&marketplace=FLIPKART&page='+str(i)\n",
    "    driver.get(next_page)\n",
    "    \n",
    "    time.sleep(1)\n",
    "    \n",
    "    for j in driver.find_elements_by_xpath('//div[@class=\"col _2wzgFH K0kLPL\"]/div[1]/div[1]'):\n",
    "        \n",
    "        rating_tv5.append(j.text)\n",
    "        \n",
    "    for a in driver.find_elements_by_xpath('//div[@class=\"col _2wzgFH K0kLPL\"]/div[1]/p'):\n",
    "        \n",
    "        review_tv5.append(a.text.replace(\"\\n\",\"\"))\n",
    "        \n",
    "    time.sleep(1)\n",
    "    \n",
    "# check length of fetched ratings and reviews\n",
    "\n",
    "print(len(rating_tv5))\n",
    "\n",
    "print(len(review_tv5))\n",
    "\n",
    "tv5 = pd.DataFrame({'Rating': rating_tv5,'Review':review_tv5})\n",
    "tv5.to_excel(r'/Users/juhimishra/Downloads/tv5.xlsx', index = False)"
   ]
  },
  {
   "cell_type": "code",
   "execution_count": 25,
   "metadata": {},
   "outputs": [
    {
     "name": "stdout",
     "output_type": "stream",
     "text": [
      "5795\n",
      "5795\n"
     ]
    }
   ],
   "source": [
    "driver.get('https://www.flipkart.com/oneplus-y-series-80-cm-32-inch-hd-ready-led-smart-android-tv/product-reviews/itme650a6bb8cee3?pid=TVSFVWD2ENXYGEJY&lid=LSTTVSFVWD2ENXYGEJY9U6ROG&marketplace=FLIPKART&page=1')\n",
    "\n",
    "rating_tv6 =[]\n",
    "review_tv6 =[]\n",
    "\n",
    "# Fetching detail for 6th tv\n",
    "\n",
    "for i in range(1,726): # Loop for page range\n",
    "    \n",
    "    next_page = 'https://www.flipkart.com/oneplus-y-series-80-cm-32-inch-hd-ready-led-smart-android-tv/product-reviews/itme650a6bb8cee3?pid=TVSFVWD2ENXYGEJY&lid=LSTTVSFVWD2ENXYGEJY9U6ROG&marketplace=FLIPKART&page='+str(i)\n",
    "    driver.get(next_page)\n",
    "    \n",
    "    time.sleep(1)\n",
    "    \n",
    "    for j in driver.find_elements_by_xpath('//div[@class=\"col _2wzgFH K0kLPL\"]/div[1]/div[1]'):\n",
    "        \n",
    "        rating_tv6.append(j.text)\n",
    "        \n",
    "    for a in driver.find_elements_by_xpath('//div[@class=\"col _2wzgFH K0kLPL\"]/div[1]/p'):\n",
    "        \n",
    "        review_tv6.append(a.text.replace(\"\\n\",\"\"))\n",
    "        \n",
    "    time.sleep(1)\n",
    "    \n",
    "# check length of fetched ratings and reviews\n",
    "\n",
    "print(len(rating_tv6))\n",
    "\n",
    "print(len(review_tv6))\n",
    "\n",
    "tv6 = pd.DataFrame({'Rating': rating_tv6,'Review':review_tv6})\n",
    "tv6.to_excel(r'/Users/juhimishra/Downloads/tv6.xlsx', index = False)"
   ]
  },
  {
   "cell_type": "code",
   "execution_count": 32,
   "metadata": {
    "scrolled": true
   },
   "outputs": [
    {
     "name": "stdout",
     "output_type": "stream",
     "text": [
      "7985\n",
      "7985\n"
     ]
    }
   ],
   "source": [
    "driver.get('https://www.flipkart.com/mi-4x-108-cm-43-inch-ultra-hd-4k-led-smart-android-tv/product-reviews/itmab87244d2fead?pid=TVSGFH5PQRTFRTVG&lid=LSTTVSGFH5PQRTFRTVG16L7WZ&marketplace=FLIPKART&page=1')\n",
    "\n",
    "rating_tv_mi7 =[]\n",
    "review_tv_mi7 =[]\n",
    "\n",
    "# Fetching detail for 7th tv\n",
    "\n",
    "for i in range(1,800): # Loop for page range\n",
    "    \n",
    "    next_page = 'https://www.flipkart.com/mi-4x-108-cm-43-inch-ultra-hd-4k-led-smart-android-tv/product-reviews/itmab87244d2fead?pid=TVSGFH5PQRTFRTVG&lid=LSTTVSGFH5PQRTFRTVG16L7WZ&marketplace=FLIPKART&page='+str(i)\n",
    "    driver.get(next_page)\n",
    "    \n",
    "    time.sleep(1)\n",
    "    \n",
    "    for j in driver.find_elements_by_xpath('//div[@class=\"col _2wzgFH K0kLPL\"]/div[1]/div[1]'):\n",
    "        \n",
    "        rating_tv_mi7.append(j.text)\n",
    "        \n",
    "    for a in driver.find_elements_by_xpath('//div[@class=\"col _2wzgFH K0kLPL\"]/div[1]/p'):\n",
    "        \n",
    "        review_tv_mi7.append(a.text.replace(\"\\n\",\"\"))\n",
    "        \n",
    "    time.sleep(1)\n",
    "    \n",
    "# check length of fetched ratings and reviews\n",
    "\n",
    "print(len(rating_tv_mi7))\n",
    "\n",
    "print(len(review_tv_mi7))\n",
    "\n",
    "tv7 = pd.DataFrame({'Rating': rating_tv_mi7,'Review':review_tv_mi7})\n",
    "tv7.to_excel(r'/Users/juhimishra/Downloads/tv_mi7.xlsx', index = False)"
   ]
  },
  {
   "cell_type": "code",
   "execution_count": 33,
   "metadata": {},
   "outputs": [
    {
     "name": "stdout",
     "output_type": "stream",
     "text": [
      "5014\n",
      "5014\n"
     ]
    }
   ],
   "source": [
    "driver.get('https://www.flipkart.com/whirlpool-7-kg-5-star-turbo-scrub-technology-semi-automatic-top-load-grey/product-reviews/itmc2358c606b038?pid=WMNFH8WMMYH8WVAQ&lid=LSTWMNFH8WMMYH8WVAQ3WTUET&marketplace=FLIPKART&page=1')\n",
    "\n",
    "rating_wm =[]\n",
    "review_wm =[]\n",
    "\n",
    "# Fetching detail for 1st washing machine\n",
    "\n",
    "for i in range(1,503): # Loop for page range\n",
    "    \n",
    "    next_page = 'https://www.flipkart.com/whirlpool-7-kg-5-star-turbo-scrub-technology-semi-automatic-top-load-grey/product-reviews/itmc2358c606b038?pid=WMNFH8WMMYH8WVAQ&lid=LSTWMNFH8WMMYH8WVAQ3WTUET&marketplace=FLIPKART&page='+str(i)\n",
    "    driver.get(next_page)\n",
    "    \n",
    "    time.sleep(1)\n",
    "    \n",
    "    for j in driver.find_elements_by_xpath('//div[@class=\"col _2wzgFH K0kLPL\"]/div[1]/div[1]'):\n",
    "        \n",
    "        rating_wm.append(j.text)\n",
    "        \n",
    "    for a in driver.find_elements_by_xpath('//div[@class=\"col _2wzgFH K0kLPL\"]/div[1]/p'):\n",
    "        \n",
    "        review_wm.append(a.text.replace(\"\\n\",\"\"))\n",
    "        \n",
    "    time.sleep(1)\n",
    "    \n",
    "# check length of fetched ratings and reviews\n",
    "\n",
    "print(len(rating_wm))\n",
    "\n",
    "print(len(review_wm))\n",
    "\n",
    "wm = pd.DataFrame({'Rating': rating_wm,'Review':review_wm})\n",
    "wm.to_excel(r'/Users/juhimishra/Downloads/wm1.xlsx', index = False)"
   ]
  },
  {
   "cell_type": "code",
   "execution_count": 34,
   "metadata": {},
   "outputs": [
    {
     "name": "stdout",
     "output_type": "stream",
     "text": [
      "4498\n",
      "4498\n"
     ]
    }
   ],
   "source": [
    "driver.get('https://www.flipkart.com/onida-7-kg-5-star-crystal-drum-technology-fully-automatic-top-load-grey/product-reviews/itmb09f214ec0900?pid=WMNFPS483VBXJQGP&lid=LSTWMNFPS483VBXJQGPBCKZL7&marketplace=FLIPKART&page=1')\n",
    "\n",
    "rating_wm2 =[]\n",
    "review_wm2 =[]\n",
    "\n",
    "# Fetching detail for 2nd washing machine\n",
    "\n",
    "for i in range(1,453): # Loop for page range\n",
    "    \n",
    "    next_page = 'https://www.flipkart.com/onida-7-kg-5-star-crystal-drum-technology-fully-automatic-top-load-grey/product-reviews/itmb09f214ec0900?pid=WMNFPS483VBXJQGP&lid=LSTWMNFPS483VBXJQGPBCKZL7&marketplace=FLIPKART&page='+str(i)\n",
    "    driver.get(next_page)\n",
    "    \n",
    "    time.sleep(1)\n",
    "    \n",
    "    for j in driver.find_elements_by_xpath('//div[@class=\"col _2wzgFH K0kLPL\"]/div[1]/div[1]'):\n",
    "        \n",
    "        rating_wm2.append(j.text)\n",
    "        \n",
    "    for a in driver.find_elements_by_xpath('//div[@class=\"col _2wzgFH K0kLPL\"]/div[1]/p'):\n",
    "        \n",
    "        review_wm2.append(a.text.replace(\"\\n\",\"\"))\n",
    "        \n",
    "    time.sleep(1)\n",
    "    \n",
    "# check length of fetched ratings and reviews\n",
    "\n",
    "print(len(rating_wm2))\n",
    "\n",
    "print(len(review_wm2))\n",
    "\n",
    "wm2 = pd.DataFrame({'Rating': rating_wm2,'Review':review_wm2})\n",
    "wm2.to_excel(r'/Users/juhimishra/Downloads/wm2.xlsx', index = False)"
   ]
  },
  {
   "cell_type": "code",
   "execution_count": 35,
   "metadata": {},
   "outputs": [
    {
     "name": "stdout",
     "output_type": "stream",
     "text": [
      "6119\n",
      "6119\n"
     ]
    }
   ],
   "source": [
    "driver.get('https://www.flipkart.com/ifb-6-kg-5-star-aqua-energie-laundry-add-tub-clean-fully-automatic-front-load-in-built-heater-white/product-reviews/itmehpcrfmzed87b?pid=WMNEHPCR5BJHXPRT&lid=LSTWMNEHPCR5BJHXPRTTAVXAI&marketplace=FLIPKART&page=1')\n",
    "\n",
    "rating_wm3 =[]\n",
    "review_wm3 =[]\n",
    "\n",
    "# Fetching detail for 3rd washing machine\n",
    "\n",
    "for i in range(1,614): # Loop for page range\n",
    "    \n",
    "    next_page = 'https://www.flipkart.com/ifb-6-kg-5-star-aqua-energie-laundry-add-tub-clean-fully-automatic-front-load-in-built-heater-white/product-reviews/itmehpcrfmzed87b?pid=WMNEHPCR5BJHXPRT&lid=LSTWMNEHPCR5BJHXPRTTAVXAI&marketplace=FLIPKART&page='+str(i)\n",
    "    driver.get(next_page)\n",
    "    \n",
    "    time.sleep(1)\n",
    "    \n",
    "    for j in driver.find_elements_by_xpath('//div[@class=\"col _2wzgFH K0kLPL\"]/div[1]/div[1]'):\n",
    "        \n",
    "        rating_wm3.append(j.text)\n",
    "        \n",
    "    for a in driver.find_elements_by_xpath('//div[@class=\"col _2wzgFH K0kLPL\"]/div[1]/p'):\n",
    "        \n",
    "        review_wm3.append(a.text.replace(\"\\n\",\"\"))\n",
    "        \n",
    "    time.sleep(1)\n",
    "    \n",
    "# check length of fetched ratings and reviews\n",
    "\n",
    "print(len(rating_wm3))\n",
    "\n",
    "print(len(review_wm3))\n",
    "\n",
    "wm3 = pd.DataFrame({'Rating': rating_wm3,'Review':review_wm3})\n",
    "wm3.to_excel(r'/Users/juhimishra/Downloads/wm3.xlsx', index = False)"
   ]
  },
  {
   "cell_type": "code",
   "execution_count": 36,
   "metadata": {},
   "outputs": [
    {
     "name": "stdout",
     "output_type": "stream",
     "text": [
      "6119\n",
      "6119\n"
     ]
    }
   ],
   "source": [
    "driver.get('https://www.flipkart.com/ifb-6-kg-5-star-aqua-energie-laundry-add-in-built-heater-fully-automatic-front-load-silver/product-reviews/itmewfs4bdqjd8gd?pid=WMNEWFS4SHWDPGEA&lid=LSTWMNEWFS4SHWDPGEAYP2ITX&marketplace=FLIPKART&page=1')\n",
    "\n",
    "rating_wm4 =[]\n",
    "review_wm4 =[]\n",
    "\n",
    "# Fetching detail for 4th washing machine\n",
    "\n",
    "for i in range(1,614): # Loop for page range\n",
    "    \n",
    "    next_page = 'https://www.flipkart.com/ifb-6-kg-5-star-aqua-energie-laundry-add-in-built-heater-fully-automatic-front-load-silver/product-reviews/itmewfs4bdqjd8gd?pid=WMNEWFS4SHWDPGEA&lid=LSTWMNEWFS4SHWDPGEAYP2ITX&marketplace=FLIPKART&page='+str(i)\n",
    "    driver.get(next_page)\n",
    "    \n",
    "    time.sleep(1)\n",
    "    \n",
    "    for j in driver.find_elements_by_xpath('//div[@class=\"col _2wzgFH K0kLPL\"]/div[1]/div[1]'):\n",
    "        \n",
    "        rating_wm4.append(j.text)\n",
    "        \n",
    "    for a in driver.find_elements_by_xpath('//div[@class=\"col _2wzgFH K0kLPL\"]/div[1]/p'):\n",
    "        \n",
    "        review_wm4.append(a.text.replace(\"\\n\",\"\"))\n",
    "        \n",
    "    time.sleep(1)\n",
    "    \n",
    "# check length of fetched ratings and reviews\n",
    "\n",
    "print(len(rating_wm4))\n",
    "\n",
    "print(len(review_wm4))\n",
    "\n",
    "wm4 = pd.DataFrame({'Rating': rating_wm4,'Review':review_wm4})\n",
    "wm4.to_excel(r'/Users/juhimishra/Downloads/wm4.xlsx', index = False)"
   ]
  },
  {
   "cell_type": "code",
   "execution_count": null,
   "metadata": {},
   "outputs": [],
   "source": []
  }
 ],
 "metadata": {
  "kernelspec": {
   "display_name": "Python 3",
   "language": "python",
   "name": "python3"
  },
  "language_info": {
   "codemirror_mode": {
    "name": "ipython",
    "version": 3
   },
   "file_extension": ".py",
   "mimetype": "text/x-python",
   "name": "python",
   "nbconvert_exporter": "python",
   "pygments_lexer": "ipython3",
   "version": "3.8.5"
  }
 },
 "nbformat": 4,
 "nbformat_minor": 4
}
