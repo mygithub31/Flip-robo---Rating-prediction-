{
 "cells": [
  {
   "cell_type": "code",
   "execution_count": 40,
   "metadata": {},
   "outputs": [],
   "source": [
    "import numpy as np\n",
    "import pandas as pd\n",
    "import seaborn as sns\n",
    "import matplotlib.pyplot as plt\n",
    "from sklearn.preprocessing import StandardScaler, MinMaxScaler\n",
    "from sklearn.model_selection import train_test_split\n",
    "import warnings\n",
    "warnings.filterwarnings('ignore')\n",
    "\n",
    "## NLTK Libraries\n",
    "\n",
    "from sklearn.feature_extraction.text import CountVectorizer,TfidfVectorizer,HashingVectorizer\n",
    "from nltk.corpus import  stopwords\n",
    "from nltk.stem.porter import PorterStemmer\n",
    "from nltk.stem import WordNetLemmatizer\n",
    "import nltk\n",
    "import spacy\n",
    "from nltk.corpus import  stopwords\n",
    "import string\n",
    "import contractions\n",
    "import re"
   ]
  },
  {
   "cell_type": "code",
   "execution_count": 2,
   "metadata": {},
   "outputs": [
    {
     "name": "stdout",
     "output_type": "stream",
     "text": [
      "Requirement already satisfied: contractions in ./opt/anaconda3/lib/python3.8/site-packages (0.0.58)\r\n",
      "Requirement already satisfied: textsearch>=0.0.21 in ./opt/anaconda3/lib/python3.8/site-packages (from contractions) (0.0.21)\r\n",
      "Requirement already satisfied: anyascii in ./opt/anaconda3/lib/python3.8/site-packages (from textsearch>=0.0.21->contractions) (0.3.0)\r\n",
      "Requirement already satisfied: pyahocorasick in ./opt/anaconda3/lib/python3.8/site-packages (from textsearch>=0.0.21->contractions) (1.4.2)\r\n"
     ]
    }
   ],
   "source": [
    "! pip install contractions"
   ]
  },
  {
   "cell_type": "code",
   "execution_count": 3,
   "metadata": {
    "scrolled": true
   },
   "outputs": [
    {
     "data": {
      "text/html": [
       "<div>\n",
       "<style scoped>\n",
       "    .dataframe tbody tr th:only-of-type {\n",
       "        vertical-align: middle;\n",
       "    }\n",
       "\n",
       "    .dataframe tbody tr th {\n",
       "        vertical-align: top;\n",
       "    }\n",
       "\n",
       "    .dataframe thead th {\n",
       "        text-align: right;\n",
       "    }\n",
       "</style>\n",
       "<table border=\"1\" class=\"dataframe\">\n",
       "  <thead>\n",
       "    <tr style=\"text-align: right;\">\n",
       "      <th></th>\n",
       "      <th>Rating</th>\n",
       "      <th>Review</th>\n",
       "    </tr>\n",
       "  </thead>\n",
       "  <tbody>\n",
       "    <tr>\n",
       "      <th>0</th>\n",
       "      <td>1</td>\n",
       "      <td>Useless product</td>\n",
       "    </tr>\n",
       "    <tr>\n",
       "      <th>1</th>\n",
       "      <td>1</td>\n",
       "      <td>Don't waste your money</td>\n",
       "    </tr>\n",
       "    <tr>\n",
       "      <th>2</th>\n",
       "      <td>1</td>\n",
       "      <td>Very poor</td>\n",
       "    </tr>\n",
       "    <tr>\n",
       "      <th>3</th>\n",
       "      <td>1</td>\n",
       "      <td>Useless product</td>\n",
       "    </tr>\n",
       "    <tr>\n",
       "      <th>4</th>\n",
       "      <td>1</td>\n",
       "      <td>Hated it!</td>\n",
       "    </tr>\n",
       "  </tbody>\n",
       "</table>\n",
       "</div>"
      ],
      "text/plain": [
       "   Rating                  Review\n",
       "0       1         Useless product\n",
       "1       1  Don't waste your money\n",
       "2       1               Very poor\n",
       "3       1         Useless product\n",
       "4       1               Hated it!"
      ]
     },
     "execution_count": 3,
     "metadata": {},
     "output_type": "execute_result"
    }
   ],
   "source": [
    "df = pd.read_excel(\"/Users/juhimishra/Downloads/Rating & review - scrap.xlsx\")\n",
    "df.head()"
   ]
  },
  {
   "cell_type": "markdown",
   "metadata": {},
   "source": [
    "There are 2 column one is Rating and the other one is Review column. In rating starts given by customer based on review been updated."
   ]
  },
  {
   "cell_type": "code",
   "execution_count": 4,
   "metadata": {},
   "outputs": [
    {
     "name": "stdout",
     "output_type": "stream",
     "text": [
      "<class 'pandas.core.frame.DataFrame'>\n",
      "RangeIndex: 17275 entries, 0 to 17274\n",
      "Data columns (total 2 columns):\n",
      " #   Column  Non-Null Count  Dtype \n",
      "---  ------  --------------  ----- \n",
      " 0   Rating  17275 non-null  int64 \n",
      " 1   Review  17275 non-null  object\n",
      "dtypes: int64(1), object(1)\n",
      "memory usage: 270.0+ KB\n"
     ]
    }
   ],
   "source": [
    "df.info()"
   ]
  },
  {
   "cell_type": "markdown",
   "metadata": {},
   "source": [
    "Rating is integer data type while review is object datatype"
   ]
  },
  {
   "cell_type": "code",
   "execution_count": 5,
   "metadata": {},
   "outputs": [
    {
     "data": {
      "text/plain": [
       "Rating    0\n",
       "Review    0\n",
       "dtype: int64"
      ]
     },
     "execution_count": 5,
     "metadata": {},
     "output_type": "execute_result"
    }
   ],
   "source": [
    "df.isna().sum()"
   ]
  },
  {
   "cell_type": "markdown",
   "metadata": {},
   "source": [
    "There is no missing data in any of the row or column"
   ]
  },
  {
   "cell_type": "code",
   "execution_count": 6,
   "metadata": {},
   "outputs": [
    {
     "data": {
      "text/plain": [
       "5    3456\n",
       "4    3455\n",
       "3    3455\n",
       "2    3455\n",
       "1    3454\n",
       "Name: Rating, dtype: int64"
      ]
     },
     "execution_count": 6,
     "metadata": {},
     "output_type": "execute_result"
    }
   ],
   "source": [
    "df['Rating'].value_counts()"
   ]
  },
  {
   "cell_type": "markdown",
   "metadata": {},
   "source": [
    "Almost all the ratings do have same number of data in it . No imbalance problem statement. As in classification problem we need \n",
    "to check whether the problem statement is imbalanced or not"
   ]
  },
  {
   "cell_type": "code",
   "execution_count": 7,
   "metadata": {
    "scrolled": true
   },
   "outputs": [
    {
     "data": {
      "text/plain": [
       "<AxesSubplot:xlabel='Rating', ylabel='count'>"
      ]
     },
     "execution_count": 7,
     "metadata": {},
     "output_type": "execute_result"
    },
    {
     "data": {
      "image/png": "[encoded data removed]",
      "text/plain": [
       "<Figure size 432x288 with 1 Axes>"
      ]
     },
     "metadata": {
      "needs_background": "light"
     },
     "output_type": "display_data"
    }
   ],
   "source": [
    "sns.countplot(df.Rating)"
   ]
  },
  {
   "cell_type": "markdown",
   "metadata": {},
   "source": [
    "As all the ratings do have equal number of data so we are getting all the bar plot on same scale which is within 3000 to 3500."
   ]
  },
  {
   "cell_type": "code",
   "execution_count": 8,
   "metadata": {},
   "outputs": [
    {
     "name": "stderr",
     "output_type": "stream",
     "text": [
      "[nltk_data] Downloading package wordnet to\n",
      "[nltk_data]     /Users/juhimishra/nltk_data...\n",
      "[nltk_data]   Package wordnet is already up-to-date!\n"
     ]
    },
    {
     "data": {
      "text/plain": [
       "True"
      ]
     },
     "execution_count": 8,
     "metadata": {},
     "output_type": "execute_result"
    }
   ],
   "source": [
    "nltk.download('wordnet')"
   ]
  },
  {
   "cell_type": "code",
   "execution_count": 9,
   "metadata": {},
   "outputs": [
    {
     "name": "stderr",
     "output_type": "stream",
     "text": [
      "[nltk_data] Downloading package punkt to\n",
      "[nltk_data]     /Users/juhimishra/nltk_data...\n",
      "[nltk_data]   Package punkt is already up-to-date!\n"
     ]
    },
    {
     "data": {
      "text/plain": [
       "True"
      ]
     },
     "execution_count": 9,
     "metadata": {},
     "output_type": "execute_result"
    }
   ],
   "source": [
    "nltk.download('punkt')"
   ]
  },
  {
   "cell_type": "markdown",
   "metadata": {},
   "source": [
    "## Preprocessing NLTK data"
   ]
  },
  {
   "cell_type": "markdown",
   "metadata": {},
   "source": [
    "### Lower case Cnversion"
   ]
  },
  {
   "cell_type": "code",
   "execution_count": 10,
   "metadata": {},
   "outputs": [],
   "source": [
    "df['Review']=df['Review'].apply(lambda x: x.lower())"
   ]
  },
  {
   "cell_type": "code",
   "execution_count": 11,
   "metadata": {},
   "outputs": [],
   "source": [
    "contractions = {\"Don't\":\"do not\",\n",
    "                \"don't\":\"do not\"\n",
    "                }"
   ]
  },
  {
   "cell_type": "code",
   "execution_count": 12,
   "metadata": {},
   "outputs": [],
   "source": [
    "def cont_to_exp(x):\n",
    "    if type(x) is str:\n",
    "        for key in contractions:\n",
    "            value = contractions[key]\n",
    "            x = x.replace(key,value)\n",
    "        return x\n",
    "    else:\n",
    "        return x"
   ]
  },
  {
   "cell_type": "code",
   "execution_count": 13,
   "metadata": {},
   "outputs": [],
   "source": [
    "df[\"Review\"]=df[\"Review\"].apply(lambda x:cont_to_exp(x))"
   ]
  },
  {
   "cell_type": "markdown",
   "metadata": {},
   "source": [
    "#### Special character or punctuation removal"
   ]
  },
  {
   "cell_type": "code",
   "execution_count": 14,
   "metadata": {},
   "outputs": [],
   "source": [
    "df['Review']=df['Review'].apply(lambda x: re.sub('[^A-Z a-z 0-9-]+', '',x))"
   ]
  },
  {
   "cell_type": "markdown",
   "metadata": {},
   "source": [
    "#### Remove multiple spaces"
   ]
  },
  {
   "cell_type": "code",
   "execution_count": 15,
   "metadata": {},
   "outputs": [],
   "source": [
    "df['Review']=df['Review'].apply(lambda x: \" \".join(x.split()))"
   ]
  },
  {
   "cell_type": "markdown",
   "metadata": {},
   "source": [
    "#### Remove Stopwords"
   ]
  },
  {
   "cell_type": "code",
   "execution_count": 16,
   "metadata": {},
   "outputs": [],
   "source": [
    "from wordcloud.wordcloud import STOPWORDS\n",
    "df['Review']=df['Review'].apply(lambda x: \" \".join([t for t in x.split() if t not in STOPWORDS]))"
   ]
  },
  {
   "cell_type": "code",
   "execution_count": 17,
   "metadata": {
    "scrolled": true
   },
   "outputs": [
    {
     "name": "stderr",
     "output_type": "stream",
     "text": [
      "[nltk_data] Downloading package wordnet to\n",
      "[nltk_data]     /Users/juhimishra/nltk_data...\n",
      "[nltk_data]   Package wordnet is already up-to-date!\n"
     ]
    },
    {
     "data": {
      "text/plain": [
       "True"
      ]
     },
     "execution_count": 17,
     "metadata": {},
     "output_type": "execute_result"
    }
   ],
   "source": [
    "from nltk.stem import wordnet\n",
    "from nltk.tokenize import word_tokenize\n",
    "lemma = wordnet.WordNetLemmatizer()\n",
    "nltk.download('wordnet')"
   ]
  },
  {
   "cell_type": "code",
   "execution_count": 20,
   "metadata": {
    "scrolled": true
   },
   "outputs": [
    {
     "data": {
      "image/png": "[encoded data removed]",
      "text/plain": [
       "<Figure size 720x576 with 1 Axes>"
      ]
     },
     "metadata": {},
     "output_type": "display_data"
    }
   ],
   "source": [
    "#Getting sense of loud words which are offensive\n",
    "from wordcloud import WordCloud\n",
    "hams = df['Review'][df['Rating']]\n",
    "spam_cloud = WordCloud(width=600,height=400,background_color='black',max_words=100).generate(' '.join(hams))\n",
    "plt.figure(figsize=(10,8),facecolor='k')\n",
    "plt.imshow(spam_cloud)\n",
    "plt.axis('off')\n",
    "plt.tight_layout(pad=0)\n",
    "plt.show()"
   ]
  },
  {
   "cell_type": "markdown",
   "metadata": {},
   "source": [
    "Using word cloud we can have visualisation of which words are more im. Here we can see that bad quality , useless product are larger in size which means these words are having high value while money poor, product hated useless all these words are too small which means they do less value in this dataset.\n"
   ]
  },
  {
   "cell_type": "markdown",
   "metadata": {},
   "source": [
    "### Tokenize"
   ]
  },
  {
   "cell_type": "code",
   "execution_count": 21,
   "metadata": {
    "scrolled": true
   },
   "outputs": [],
   "source": [
    "from nltk.tokenize import word_tokenize"
   ]
  },
  {
   "cell_type": "code",
   "execution_count": 22,
   "metadata": {},
   "outputs": [],
   "source": [
    "#object of WordNetLemmatizer\n",
    "lm = WordNetLemmatizer()"
   ]
  },
  {
   "cell_type": "code",
   "execution_count": 23,
   "metadata": {},
   "outputs": [],
   "source": [
    "df['Review']=df['Review'].apply(str)\n",
    "\n",
    "df[\"tokenized_text\"] = df[\"Review\"].apply(nltk.word_tokenize)\n",
    "\n",
    "new_stopwords_list = set(stopwords.words('english') + ['u', 'ü', 'ur', '4', '2', 'im', 'dont', 'doin', 'ure','!','@','#','$','%','^','&','*','(',')'])\n",
    "\n",
    "def lemmatize_text(text):\n",
    "\n",
    "    return [lm.lemmatize(w) for w in text if w not in new_stopwords_list]\n",
    "\n",
    "df['Lemmatized_Text'] = df['tokenized_text'].apply(lemmatize_text).apply(', '.join)\n",
    "    "
   ]
  },
  {
   "cell_type": "code",
   "execution_count": 24,
   "metadata": {
    "scrolled": true
   },
   "outputs": [
    {
     "data": {
      "text/html": [
       "<div>\n",
       "<style scoped>\n",
       "    .dataframe tbody tr th:only-of-type {\n",
       "        vertical-align: middle;\n",
       "    }\n",
       "\n",
       "    .dataframe tbody tr th {\n",
       "        vertical-align: top;\n",
       "    }\n",
       "\n",
       "    .dataframe thead th {\n",
       "        text-align: right;\n",
       "    }\n",
       "</style>\n",
       "<table border=\"1\" class=\"dataframe\">\n",
       "  <thead>\n",
       "    <tr style=\"text-align: right;\">\n",
       "      <th></th>\n",
       "      <th>Rating</th>\n",
       "      <th>Review</th>\n",
       "      <th>tokenized_text</th>\n",
       "      <th>Lemmatized_Text</th>\n",
       "    </tr>\n",
       "  </thead>\n",
       "  <tbody>\n",
       "    <tr>\n",
       "      <th>0</th>\n",
       "      <td>1</td>\n",
       "      <td>useless product</td>\n",
       "      <td>[useless, product]</td>\n",
       "      <td>useless, product</td>\n",
       "    </tr>\n",
       "    <tr>\n",
       "      <th>1</th>\n",
       "      <td>1</td>\n",
       "      <td>waste money</td>\n",
       "      <td>[waste, money]</td>\n",
       "      <td>waste, money</td>\n",
       "    </tr>\n",
       "    <tr>\n",
       "      <th>2</th>\n",
       "      <td>1</td>\n",
       "      <td>poor</td>\n",
       "      <td>[poor]</td>\n",
       "      <td>poor</td>\n",
       "    </tr>\n",
       "    <tr>\n",
       "      <th>3</th>\n",
       "      <td>1</td>\n",
       "      <td>useless product</td>\n",
       "      <td>[useless, product]</td>\n",
       "      <td>useless, product</td>\n",
       "    </tr>\n",
       "    <tr>\n",
       "      <th>4</th>\n",
       "      <td>1</td>\n",
       "      <td>hated</td>\n",
       "      <td>[hated]</td>\n",
       "      <td>hated</td>\n",
       "    </tr>\n",
       "  </tbody>\n",
       "</table>\n",
       "</div>"
      ],
      "text/plain": [
       "   Rating           Review      tokenized_text   Lemmatized_Text\n",
       "0       1  useless product  [useless, product]  useless, product\n",
       "1       1      waste money      [waste, money]      waste, money\n",
       "2       1             poor              [poor]              poor\n",
       "3       1  useless product  [useless, product]  useless, product\n",
       "4       1            hated             [hated]             hated"
      ]
     },
     "execution_count": 24,
     "metadata": {},
     "output_type": "execute_result"
    }
   ],
   "source": [
    "df.head()"
   ]
  },
  {
   "cell_type": "markdown",
   "metadata": {},
   "source": [
    "Lemmatization to bring all the word to it;s base form . Lemmatization in other we call it as lemma"
   ]
  },
  {
   "cell_type": "code",
   "execution_count": 25,
   "metadata": {},
   "outputs": [],
   "source": [
    "cv = TfidfVectorizer(stop_words='english',\n",
    "\n",
    "    sublinear_tf=True,\n",
    "\n",
    "    strip_accents='unicode',\n",
    "\n",
    "    analyzer='word',\n",
    "\n",
    "    token_pattern=r'\\w{2,}',  #vectorize 2-character words or more\n",
    "\n",
    "    ngram_range=(1, 1))\n",
    "\n",
    "# Use the content column instead of our single text variable\n",
    "\n",
    "traindata = cv.fit_transform(df['Lemmatized_Text'])\n"
   ]
  },
  {
   "cell_type": "markdown",
   "metadata": {},
   "source": [
    "To convert all the string datatype to numbers used Tfidf. This is one of the statistical analysis used to convert string to number "
   ]
  },
  {
   "cell_type": "code",
   "execution_count": 26,
   "metadata": {
    "scrolled": true
   },
   "outputs": [
    {
     "data": {
      "text/plain": [
       "['10',\n",
       " '100',\n",
       " '108',\n",
       " '13k',\n",
       " '1st',\n",
       " '22mk600m',\n",
       " '22mp68vq',\n",
       " '2730u',\n",
       " '30',\n",
       " '40',\n",
       " '41',\n",
       " '43',\n",
       " '4a',\n",
       " '4k',\n",
       " '4x',\n",
       " '50',\n",
       " '5ghz',\n",
       " '615',\n",
       " '6kg',\n",
       " '7kg',\n",
       " '9999',\n",
       " 'aadmi',\n",
       " 'aam',\n",
       " 'able',\n",
       " 'absolute',\n",
       " 'adsl',\n",
       " 'adsl2',\n",
       " 'affordable',\n",
       " 'amazing',\n",
       " 'android',\n",
       " 'apps',\n",
       " 'asdl',\n",
       " 'asus',\n",
       " 'attachment',\n",
       " 'audio',\n",
       " 'auto',\n",
       " 'automatic',\n",
       " 'average',\n",
       " 'avg',\n",
       " 'away',\n",
       " 'awesome',\n",
       " 'bad',\n",
       " 'band',\n",
       " 'bang',\n",
       " 'bangalore',\n",
       " 'basic',\n",
       " 'bass',\n",
       " 'beauty',\n",
       " 'best',\n",
       " 'better',\n",
       " 'beware',\n",
       " 'bhk',\n",
       " 'black',\n",
       " 'blowing',\n",
       " 'box',\n",
       " 'brand',\n",
       " 'brilliant',\n",
       " 'broadband',\n",
       " 'brodcasting',\n",
       " 'broken',\n",
       " 'bsnl',\n",
       " 'buck',\n",
       " 'budget',\n",
       " 'buggy',\n",
       " 'build',\n",
       " 'buy',\n",
       " 'buying',\n",
       " 'cable',\n",
       " 'catch',\n",
       " 'center',\n",
       " 'challenge',\n",
       " 'channel',\n",
       " 'charm',\n",
       " 'cheap',\n",
       " 'cheaper',\n",
       " 'cheat',\n",
       " 'cheated',\n",
       " 'cheater',\n",
       " 'cheep',\n",
       " 'choice',\n",
       " 'clarity',\n",
       " 'class',\n",
       " 'classy',\n",
       " 'clean',\n",
       " 'clear',\n",
       " 'cm',\n",
       " 'cm40',\n",
       " 'cockroach',\n",
       " 'compatibility',\n",
       " 'complaint',\n",
       " 'complicated',\n",
       " 'condition',\n",
       " 'connecting',\n",
       " 'connection',\n",
       " 'connectivity',\n",
       " 'consideration',\n",
       " 'considering',\n",
       " 'cool',\n",
       " 'correct',\n",
       " 'cost',\n",
       " 'costumer',\n",
       " 'coverage',\n",
       " 'customer',\n",
       " 'cute',\n",
       " 'damaged',\n",
       " 'day',\n",
       " 'deal',\n",
       " 'dealer',\n",
       " 'decent',\n",
       " 'defective',\n",
       " 'delayed',\n",
       " 'delightful',\n",
       " 'delightfuland',\n",
       " 'delivery',\n",
       " 'demand',\n",
       " 'demoinstallation',\n",
       " 'described',\n",
       " 'design',\n",
       " 'designed',\n",
       " 'device',\n",
       " 'disappoint',\n",
       " 'disappointed',\n",
       " 'disaster',\n",
       " 'disgusting',\n",
       " 'disk',\n",
       " 'display',\n",
       " 'dissappointing',\n",
       " 'dlink',\n",
       " 'doesnt',\n",
       " 'door',\n",
       " 'download',\n",
       " 'dries',\n",
       " 'driver',\n",
       " 'drop',\n",
       " 'dsl',\n",
       " 'ear',\n",
       " 'ease',\n",
       " 'easy',\n",
       " 'emi',\n",
       " 'enhances',\n",
       " 'excellent',\n",
       " 'expectation',\n",
       " 'expected',\n",
       " 'experiance',\n",
       " 'experience',\n",
       " 'extender',\n",
       " 'extends',\n",
       " 'extremely',\n",
       " 'eye',\n",
       " 'f15',\n",
       " 'fabulos',\n",
       " 'fabulous',\n",
       " 'fact',\n",
       " 'faililng',\n",
       " 'failingfan',\n",
       " 'fair',\n",
       " 'family',\n",
       " 'fancy',\n",
       " 'feature',\n",
       " 'fi',\n",
       " 'fiber',\n",
       " 'fine',\n",
       " 'fixed',\n",
       " 'flagship',\n",
       " 'flat',\n",
       " 'flaw',\n",
       " 'flawed',\n",
       " 'flip',\n",
       " 'flipkart',\n",
       " 'flipkarts',\n",
       " 'fps',\n",
       " 'frozebricked',\n",
       " 'gadde',\n",
       " 'game',\n",
       " 'gaming',\n",
       " 'generation',\n",
       " 'geniune',\n",
       " 'getting',\n",
       " 'good',\n",
       " 'got',\n",
       " 'great',\n",
       " 'gud',\n",
       " 'hang',\n",
       " 'hard',\n",
       " 'hated',\n",
       " 'hd',\n",
       " 'hdmi',\n",
       " 'headphone',\n",
       " 'heating',\n",
       " 'help',\n",
       " 'high',\n",
       " 'higher',\n",
       " 'highly',\n",
       " 'home',\n",
       " 'hopeless',\n",
       " 'horrible',\n",
       " 'host',\n",
       " 'ifb',\n",
       " 'improper',\n",
       " 'improvement',\n",
       " 'inch',\n",
       " 'incompatible',\n",
       " 'install',\n",
       " 'installation',\n",
       " 'installlation',\n",
       " 'interaction',\n",
       " 'international',\n",
       " 'internet',\n",
       " 'ip',\n",
       " 'issue',\n",
       " 'isverry',\n",
       " 'item',\n",
       " 'jeevs',\n",
       " 'job',\n",
       " 'kart',\n",
       " 'laptop',\n",
       " 'led',\n",
       " 'life',\n",
       " 'line',\n",
       " 'link',\n",
       " 'listening',\n",
       " 'load',\n",
       " 'local',\n",
       " 'long',\n",
       " 'longer',\n",
       " 'looking',\n",
       " 'loos',\n",
       " 'lot',\n",
       " 'low',\n",
       " 'machine',\n",
       " 'maching',\n",
       " 'main',\n",
       " 'majorly',\n",
       " 'manufactured',\n",
       " 'market',\n",
       " 'mechanism',\n",
       " 'medium',\n",
       " 'meet',\n",
       " 'member',\n",
       " 'met',\n",
       " 'mi',\n",
       " 'microphone',\n",
       " 'mid',\n",
       " 'mind',\n",
       " 'model',\n",
       " 'modem',\n",
       " 'modemrouter',\n",
       " 'moderate',\n",
       " 'money',\n",
       " 'moneyinstallation',\n",
       " 'monitor',\n",
       " 'month',\n",
       " 'mouse',\n",
       " 'mtr',\n",
       " 'music',\n",
       " 'myy',\n",
       " 'n150',\n",
       " 'nd',\n",
       " 'need',\n",
       " 'net',\n",
       " 'network',\n",
       " 'new',\n",
       " 'nice',\n",
       " 'nifty',\n",
       " 'nive',\n",
       " 'normal',\n",
       " 'oathpro2000tv',\n",
       " 'offer',\n",
       " 'office',\n",
       " 'ok',\n",
       " 'okay',\n",
       " 'onida',\n",
       " 'optical',\n",
       " 'option',\n",
       " 'ordering',\n",
       " 'output',\n",
       " 'overall',\n",
       " 'overpriced',\n",
       " 'packaging',\n",
       " 'packing',\n",
       " 'pain',\n",
       " 'paisa',\n",
       " 'pathetic',\n",
       " 'penny',\n",
       " 'perfect',\n",
       " 'perfectionist',\n",
       " 'perfectly',\n",
       " 'perfomance',\n",
       " 'performance',\n",
       " 'performs',\n",
       " 'person',\n",
       " 'personnel',\n",
       " 'personsupport',\n",
       " 'picture',\n",
       " 'pitched',\n",
       " 'pls',\n",
       " 'plss',\n",
       " 'point',\n",
       " 'poor',\n",
       " 'port',\n",
       " 'powerfull',\n",
       " 'pretty',\n",
       " 'price',\n",
       " 'problem',\n",
       " 'prodect',\n",
       " 'product',\n",
       " 'provide',\n",
       " 'provided',\n",
       " 'purchage',\n",
       " 'purchase',\n",
       " 'purpose',\n",
       " 'quality',\n",
       " 'quick',\n",
       " 'range',\n",
       " 'ratio',\n",
       " 'rca',\n",
       " 'read',\n",
       " 'really',\n",
       " 'reasonable',\n",
       " 'recommend',\n",
       " 'recommended',\n",
       " 'relaible',\n",
       " 'reliable',\n",
       " 'repeating',\n",
       " 'replaced',\n",
       " 'research',\n",
       " 'retailer',\n",
       " 'return',\n",
       " 'review',\n",
       " 'revolution',\n",
       " 'right',\n",
       " 'rock',\n",
       " 'router',\n",
       " 'rubbish',\n",
       " 'sale',\n",
       " 'satisfactory',\n",
       " 'satisfied',\n",
       " 'satisfiedactually',\n",
       " 'scratching',\n",
       " 'screen',\n",
       " 'sd',\n",
       " 'sdr',\n",
       " 'second',\n",
       " 'seen',\n",
       " 'semi',\n",
       " 'serve',\n",
       " 'service',\n",
       " 'shiny',\n",
       " 'showing',\n",
       " 'signal',\n",
       " 'simply',\n",
       " 'size',\n",
       " 'sleek',\n",
       " 'slightly',\n",
       " 'slow',\n",
       " 'small',\n",
       " 'smart',\n",
       " 'sound',\n",
       " 'space',\n",
       " 'spare',\n",
       " 'speaker',\n",
       " 'speed',\n",
       " 'spider',\n",
       " 'stability',\n",
       " 'star',\n",
       " 'starting',\n",
       " 'stay',\n",
       " 'steardy',\n",
       " 'step',\n",
       " 'stop',\n",
       " 'storage',\n",
       " 'strength',\n",
       " 'suitable',\n",
       " 'super',\n",
       " 'superb',\n",
       " 'supplied',\n",
       " 'support',\n",
       " 'sync',\n",
       " 'taking',\n",
       " 'team',\n",
       " 'technician',\n",
       " 'television',\n",
       " 'term',\n",
       " 'terrible',\n",
       " 'terrific',\n",
       " 'thing',\n",
       " 'thompson',\n",
       " 'thomsan',\n",
       " 'thomson',\n",
       " 'time',\n",
       " 'totally',\n",
       " 'tp',\n",
       " 'trustworthy',\n",
       " 'truth',\n",
       " 'tuf',\n",
       " 'tv',\n",
       " 'unfortunately',\n",
       " 'unreasonable',\n",
       " 'unreliable',\n",
       " 'unsatisfactory',\n",
       " 'usage',\n",
       " 'usb',\n",
       " 'use',\n",
       " 'useless',\n",
       " 'user',\n",
       " 'utterly',\n",
       " 'value',\n",
       " 'vfm',\n",
       " 'videoaudio',\n",
       " 'wash',\n",
       " 'washer',\n",
       " 'washing',\n",
       " 'wasool',\n",
       " 'waste',\n",
       " 'wasted',\n",
       " 'way',\n",
       " 'week',\n",
       " 'whirlpool',\n",
       " 'wi',\n",
       " 'wifi',\n",
       " 'wiresless',\n",
       " 'wm',\n",
       " 'wonderful',\n",
       " 'wont',\n",
       " 'work',\n",
       " 'worked',\n",
       " 'working',\n",
       " 'worse',\n",
       " 'worst',\n",
       " 'worth',\n",
       " 'worthless',\n",
       " 'worthy',\n",
       " 'wow',\n",
       " 'wrong',\n",
       " 'wrost']"
      ]
     },
     "execution_count": 26,
     "metadata": {},
     "output_type": "execute_result"
    }
   ],
   "source": [
    "cv.get_feature_names()"
   ]
  },
  {
   "cell_type": "markdown",
   "metadata": {},
   "source": [
    "### Splitting data into x and y in which x is for training purpose and y for testing purpose"
   ]
  },
  {
   "cell_type": "code",
   "execution_count": 27,
   "metadata": {},
   "outputs": [],
   "source": [
    "x = traindata\n",
    "y = df.Rating"
   ]
  },
  {
   "cell_type": "code",
   "execution_count": 38,
   "metadata": {
    "scrolled": true
   },
   "outputs": [
    {
     "data": {
      "text/plain": [
       "(17275, 435)"
      ]
     },
     "execution_count": 38,
     "metadata": {},
     "output_type": "execute_result"
    }
   ],
   "source": [
    "traindata.shape"
   ]
  },
  {
   "cell_type": "code",
   "execution_count": 39,
   "metadata": {},
   "outputs": [
    {
     "data": {
      "text/plain": [
       "(17275,)"
      ]
     },
     "execution_count": 39,
     "metadata": {},
     "output_type": "execute_result"
    }
   ],
   "source": [
    "y.shape"
   ]
  },
  {
   "cell_type": "markdown",
   "metadata": {},
   "source": [
    "### Scaling all the features"
   ]
  },
  {
   "cell_type": "code",
   "execution_count": 33,
   "metadata": {},
   "outputs": [
    {
     "data": {
      "text/plain": [
       "2"
      ]
     },
     "execution_count": 33,
     "metadata": {},
     "output_type": "execute_result"
    }
   ],
   "source": [
    "x.ndim"
   ]
  },
  {
   "cell_type": "code",
   "execution_count": 34,
   "metadata": {},
   "outputs": [
    {
     "data": {
      "text/plain": [
       "1"
      ]
     },
     "execution_count": 34,
     "metadata": {},
     "output_type": "execute_result"
    }
   ],
   "source": [
    "y.ndim"
   ]
  },
  {
   "cell_type": "code",
   "execution_count": 35,
   "metadata": {},
   "outputs": [
    {
     "data": {
      "text/plain": [
       "(17275, 435)"
      ]
     },
     "execution_count": 35,
     "metadata": {},
     "output_type": "execute_result"
    }
   ],
   "source": [
    "x.shape"
   ]
  },
  {
   "cell_type": "code",
   "execution_count": 36,
   "metadata": {},
   "outputs": [
    {
     "data": {
      "text/plain": [
       "(17275,)"
      ]
     },
     "execution_count": 36,
     "metadata": {},
     "output_type": "execute_result"
    }
   ],
   "source": [
    "y.shape"
   ]
  },
  {
   "cell_type": "code",
   "execution_count": 41,
   "metadata": {},
   "outputs": [],
   "source": [
    "sc = StandardScaler(with_mean=False)\n",
    "X_train_sc = sc.fit(x)\n",
    "X_train = X_train_sc.transform(x)\n"
   ]
  },
  {
   "cell_type": "markdown",
   "metadata": {},
   "source": [
    "### Machine Learning Algorithm"
   ]
  },
  {
   "cell_type": "code",
   "execution_count": 44,
   "metadata": {},
   "outputs": [],
   "source": [
    "from sklearn.linear_model import SGDClassifier\n",
    "from sklearn.svm import LinearSVC\n",
    "from sklearn.ensemble import RandomForestClassifier\n"
   ]
  },
  {
   "cell_type": "code",
   "execution_count": 62,
   "metadata": {},
   "outputs": [],
   "source": [
    "# Importing metrices\n",
    "from sklearn.model_selection import train_test_split,GridSearchCV\n",
    "from sklearn.model_selection import cross_val_score\n",
    "from sklearn.metrics import classification_report,accuracy_score"
   ]
  },
  {
   "cell_type": "code",
   "execution_count": 46,
   "metadata": {},
   "outputs": [],
   "source": [
    "x_train,x_test,y_train,y_test=train_test_split(X_train,y,random_state=0,test_size=0.25)"
   ]
  },
  {
   "cell_type": "code",
   "execution_count": 49,
   "metadata": {
    "scrolled": false
   },
   "outputs": [
    {
     "name": "stdout",
     "output_type": "stream",
     "text": [
      "              precision    recall  f1-score   support\n",
      "\n",
      "           1       0.99      0.99      0.99       874\n",
      "           2       0.78      0.98      0.87       845\n",
      "           3       1.00      0.82      0.90       873\n",
      "           4       0.92      0.87      0.89       874\n",
      "           5       0.95      0.93      0.94       853\n",
      "\n",
      "    accuracy                           0.92      4319\n",
      "   macro avg       0.93      0.92      0.92      4319\n",
      "weighted avg       0.93      0.92      0.92      4319\n",
      "\n"
     ]
    }
   ],
   "source": [
    "rfc = RandomForestClassifier()\n",
    "rfc.fit(x_train,y_train)\n",
    "pred =rfc.predict(x_test)\n",
    "acc = classification_report(y_test,pred)\n",
    "print(acc)"
   ]
  },
  {
   "cell_type": "markdown",
   "metadata": {},
   "source": [
    "For rating 1 all the precision , recall and f1-score is 99% which means score for rating 1 is really good. While for Rating 2 precision score is too low which is 78% compare to recall which is 98% because of which f1 score shows 87%,  as f1 score is the combination of both false positive and false negative where precision is having false positive and recall is having false negative. Formula of f1 score is 2*(precision * Recall)/Precison + Recall. Similarly for rating 3 we can see that false positive which is precision is having 100% while recall which basically have focus on false negative is 82% and the avg of both which is f1 score is 90%. In this problem statement recall score is much helpful compare to precision because here we need rating prediction and if false positive will be higher will not able to identify genuine rating of customers how many are satisfied and how many are dissatisfied. For rating 4 precision score is 92% while recall is 87% and avg of both is 89%. While for rating 5 there are not much difference between scores of precision recall and f1 score . As we can see that false positive(precision) score is 95% while false negative score (recall) is 93% . F1 score for the same is 94% which is multiplication of 2(p*r)/(p+r). Overall accuracy score we got as 92% . "
   ]
  },
  {
   "cell_type": "code",
   "execution_count": 53,
   "metadata": {},
   "outputs": [
    {
     "name": "stdout",
     "output_type": "stream",
     "text": [
      "0.9165267727930535\n"
     ]
    }
   ],
   "source": [
    "print(cross_val_score(rfc,x,y,cv=5).mean())"
   ]
  },
  {
   "cell_type": "markdown",
   "metadata": {},
   "source": [
    "cross validation score on total 5 foldings is 91.65% which is less than accuracy score"
   ]
  },
  {
   "cell_type": "code",
   "execution_count": 50,
   "metadata": {},
   "outputs": [
    {
     "name": "stdout",
     "output_type": "stream",
     "text": [
      "              precision    recall  f1-score   support\n",
      "\n",
      "           1       0.99      0.99      0.99       874\n",
      "           2       0.99      0.82      0.90       845\n",
      "           3       0.79      0.98      0.87       873\n",
      "           4       0.91      0.88      0.89       874\n",
      "           5       0.97      0.93      0.95       853\n",
      "\n",
      "    accuracy                           0.92      4319\n",
      "   macro avg       0.93      0.92      0.92      4319\n",
      "weighted avg       0.93      0.92      0.92      4319\n",
      "\n"
     ]
    }
   ],
   "source": [
    "sgd = SGDClassifier()\n",
    "sgd.fit(x_train,y_train)\n",
    "pred =sgd.predict(x_test)\n",
    "acc = classification_report(y_test,pred)\n",
    "print(acc)"
   ]
  },
  {
   "cell_type": "markdown",
   "metadata": {},
   "source": [
    "From above classification report we came across each rating precision, recall, f1 and accuracy score. Here rating 1 is having all 99% means false positive, false negative and average of all which is f1 score are equal. Having false positive report high for this problem statement will not give us accurate report . Because if will get high false positive then most of the rating will be shown as positive result which will not be helpful in identifying the dissatisfied customer. Rating 2 precision score is 99% (false positive) and recall is 82% (false negative) . Overall combination of both which is f1 score is 90%. For rating 3 precision score is 79% while recall is pretty high which 98% means here the possibility to have false negative is high. And so the f1 score affected and showing including both false positive and negative report is 87%. For rating 4 precision score is 91% while recall score is 88% while f1 score is 89%. For rating 5 precision score is 97% while recall is 93% and f1 score is 95%. Over all we can say that rating 3 is having huge difference between precision and recall in which recall score is high which means possibility of getting false negative options will be high. Overall Rating 5 doesn’t have much fluctuation in score. While overall accuracy score is 92% which is almost equal to random forest classifier. While CV score for this algorithm is 91.97%  "
   ]
  },
  {
   "cell_type": "code",
   "execution_count": 54,
   "metadata": {},
   "outputs": [
    {
     "name": "stdout",
     "output_type": "stream",
     "text": [
      "0.9197684515195368\n"
     ]
    }
   ],
   "source": [
    "print(cross_val_score(sgd,x,y,cv=5).mean())"
   ]
  },
  {
   "cell_type": "markdown",
   "metadata": {},
   "source": [
    "Not much difference between accuracy score which is our classification metrics and CV score. Only 0.25% difference we observe.In which accuracy score is having higher score compare to CV score which validated upon 5 foldings"
   ]
  },
  {
   "cell_type": "code",
   "execution_count": 51,
   "metadata": {
    "scrolled": true
   },
   "outputs": [
    {
     "name": "stdout",
     "output_type": "stream",
     "text": [
      "              precision    recall  f1-score   support\n",
      "\n",
      "           1       1.00      0.99      0.99       874\n",
      "           2       0.78      0.98      0.87       845\n",
      "           3       0.99      0.82      0.90       873\n",
      "           4       0.92      0.87      0.89       874\n",
      "           5       0.96      0.94      0.95       853\n",
      "\n",
      "    accuracy                           0.92      4319\n",
      "   macro avg       0.93      0.92      0.92      4319\n",
      "weighted avg       0.93      0.92      0.92      4319\n",
      "\n"
     ]
    }
   ],
   "source": [
    "svc = LinearSVC()\n",
    "svc.fit(x_train,y_train)\n",
    "pred =svc.predict(x_test)\n",
    "acc = classification_report(y_test,pred)\n",
    "print(acc)"
   ]
  },
  {
   "cell_type": "markdown",
   "metadata": {},
   "source": [
    "Here precision score is 100% while recall and f1 score is 99%. Which means both the false positive and false negative reports are almost equal which in result f1 score too are equal to recall which is false negative. For rating 2 precision score is 78% which is comparatively too low compare to recall which is 98% means here false negative is high. So f1 score which mostly affected by recall score is 87% . If recall score is high then f1 score will also shows high score because of giving much importance to recall and of bias nature. Rating 3 precious score is 99% while recall is 82% , f1 score is 90% which is average of precision and recall means including both false positive and false negative score is been given. But as in rating 2 we seen that due to recall high score f1 score increased but in rating 3 precision score is high but that not affected much the f1 score because of f1 score mostly rely on recall score. Rating 4 precision score is 92% and recall is 87% and overall f1 score is 89% which is near to recall score. While Rating 5 precision is 96%, recall is 94% and f1 score is 95%. Overall the score of Rating 5 is balanced compare to all other ratings. Overall accuracy score for all the three algorithm are same which is 92%."
   ]
  },
  {
   "cell_type": "code",
   "execution_count": 55,
   "metadata": {},
   "outputs": [
    {
     "name": "stdout",
     "output_type": "stream",
     "text": [
      "0.917452966714906\n"
     ]
    }
   ],
   "source": [
    "print(cross_val_score(svc,x,y,cv=5).mean())"
   ]
  },
  {
   "cell_type": "markdown",
   "metadata": {},
   "source": [
    "CV score got as 91.74% trained on 5 foldings. Not having much difference between CV score and accuracy score."
   ]
  },
  {
   "cell_type": "markdown",
   "metadata": {},
   "source": [
    "Overall SGD is a best performing model with less difference between CV and accuracy score."
   ]
  },
  {
   "cell_type": "markdown",
   "metadata": {},
   "source": [
    "### Hyperparameter Tuning"
   ]
  },
  {
   "cell_type": "code",
   "execution_count": 64,
   "metadata": {},
   "outputs": [],
   "source": [
    "# SGD Algorithm\n",
    "param = {'penalty' :['l2', 'l1', 'elasticnet'],\n",
    "        'alpha':[0.001,0.002,0.004],\n",
    "        'l1_ratio':[0.15,0.20,0.30],\n",
    "        'max_iter':[100,200,500]}"
   ]
  },
  {
   "cell_type": "code",
   "execution_count": 65,
   "metadata": {},
   "outputs": [],
   "source": [
    "GC = GridSearchCV(sgd,param,cv=5)"
   ]
  },
  {
   "cell_type": "code",
   "execution_count": 66,
   "metadata": {},
   "outputs": [
    {
     "data": {
      "text/plain": [
       "GridSearchCV(cv=5, estimator=SGDClassifier(),\n",
       "             param_grid={'alpha': [0.001, 0.002, 0.004],\n",
       "                         'l1_ratio': [0.15, 0.2, 0.3],\n",
       "                         'max_iter': [100, 200, 500],\n",
       "                         'penalty': ['l2', 'l1', 'elasticnet']})"
      ]
     },
     "execution_count": 66,
     "metadata": {},
     "output_type": "execute_result"
    }
   ],
   "source": [
    "GC.fit(x_train,y_train)"
   ]
  },
  {
   "cell_type": "code",
   "execution_count": 67,
   "metadata": {},
   "outputs": [
    {
     "data": {
      "text/plain": [
       "{'alpha': 0.002, 'l1_ratio': 0.2, 'max_iter': 200, 'penalty': 'l1'}"
      ]
     },
     "execution_count": 67,
     "metadata": {},
     "output_type": "execute_result"
    }
   ],
   "source": [
    "GC.best_params_"
   ]
  },
  {
   "cell_type": "code",
   "execution_count": 68,
   "metadata": {},
   "outputs": [
    {
     "name": "stdout",
     "output_type": "stream",
     "text": [
      "91.75735123871267\n"
     ]
    }
   ],
   "source": [
    "final_sgd = SGDClassifier(alpha=0.02,l1_ratio=0.2,max_iter =200, penalty='l1' )\n",
    "final_sgd.fit(x_train,y_train)\n",
    "pred = final_sgd.predict(x_test)\n",
    "acc = accuracy_score(pred,y_test)\n",
    "print(acc*100)"
   ]
  },
  {
   "cell_type": "markdown",
   "metadata": {},
   "source": [
    "Did hyperparameter using 4 parameters which is penalty, alpha, l1 ratio and max iteration. Provided to each parameter 3 values on which I was suppose to train the model. One by one using each value the model get trained and will provide accuracy score. After training got best parameters and used the same on my best performing algorithm which is SGD and predicted the score . As a result got 91.75% . Means score has not improved . Even 0.25% score been reduced. Here might be chance that if we increase the parameter and values inside that we can have much better score. \n"
   ]
  },
  {
   "cell_type": "markdown",
   "metadata": {},
   "source": [
    "### Saving the model"
   ]
  },
  {
   "cell_type": "code",
   "execution_count": 69,
   "metadata": {},
   "outputs": [
    {
     "data": {
      "text/plain": [
       "['Finalmodelrating and review.pk1']"
      ]
     },
     "execution_count": 69,
     "metadata": {},
     "output_type": "execute_result"
    }
   ],
   "source": [
    "import joblib\n",
    "joblib.dump(final_sgd,'Finalmodelrating and review.pk1')"
   ]
  },
  {
   "cell_type": "code",
   "execution_count": 71,
   "metadata": {},
   "outputs": [],
   "source": [
    "# prediction using the same model\n",
    "loaded_model = joblib.load(open('Finalmodelrating and review.pk1', 'rb'))"
   ]
  },
  {
   "cell_type": "code",
   "execution_count": 72,
   "metadata": {},
   "outputs": [
    {
     "data": {
      "text/html": [
       "<div>\n",
       "<style scoped>\n",
       "    .dataframe tbody tr th:only-of-type {\n",
       "        vertical-align: middle;\n",
       "    }\n",
       "\n",
       "    .dataframe tbody tr th {\n",
       "        vertical-align: top;\n",
       "    }\n",
       "\n",
       "    .dataframe thead th {\n",
       "        text-align: right;\n",
       "    }\n",
       "</style>\n",
       "<table border=\"1\" class=\"dataframe\">\n",
       "  <thead>\n",
       "    <tr style=\"text-align: right;\">\n",
       "      <th></th>\n",
       "      <th>0</th>\n",
       "    </tr>\n",
       "  </thead>\n",
       "  <tbody>\n",
       "    <tr>\n",
       "      <th>0</th>\n",
       "      <td>4</td>\n",
       "    </tr>\n",
       "    <tr>\n",
       "      <th>1</th>\n",
       "      <td>1</td>\n",
       "    </tr>\n",
       "    <tr>\n",
       "      <th>2</th>\n",
       "      <td>4</td>\n",
       "    </tr>\n",
       "    <tr>\n",
       "      <th>3</th>\n",
       "      <td>4</td>\n",
       "    </tr>\n",
       "    <tr>\n",
       "      <th>4</th>\n",
       "      <td>3</td>\n",
       "    </tr>\n",
       "    <tr>\n",
       "      <th>...</th>\n",
       "      <td>...</td>\n",
       "    </tr>\n",
       "    <tr>\n",
       "      <th>4314</th>\n",
       "      <td>3</td>\n",
       "    </tr>\n",
       "    <tr>\n",
       "      <th>4315</th>\n",
       "      <td>3</td>\n",
       "    </tr>\n",
       "    <tr>\n",
       "      <th>4316</th>\n",
       "      <td>2</td>\n",
       "    </tr>\n",
       "    <tr>\n",
       "      <th>4317</th>\n",
       "      <td>3</td>\n",
       "    </tr>\n",
       "    <tr>\n",
       "      <th>4318</th>\n",
       "      <td>1</td>\n",
       "    </tr>\n",
       "  </tbody>\n",
       "</table>\n",
       "<p>4319 rows × 1 columns</p>\n",
       "</div>"
      ],
      "text/plain": [
       "      0\n",
       "0     4\n",
       "1     1\n",
       "2     4\n",
       "3     4\n",
       "4     3\n",
       "...  ..\n",
       "4314  3\n",
       "4315  3\n",
       "4316  2\n",
       "4317  3\n",
       "4318  1\n",
       "\n",
       "[4319 rows x 1 columns]"
      ]
     },
     "execution_count": 72,
     "metadata": {},
     "output_type": "execute_result"
    }
   ],
   "source": [
    "prediction=loaded_model.predict(x_test)\n",
    "prediction=pd.DataFrame(prediction)\n",
    "prediction"
   ]
  },
  {
   "cell_type": "markdown",
   "metadata": {},
   "source": [
    "Based on 25% test dataset that we did during training of model prediction the rating"
   ]
  },
  {
   "cell_type": "code",
   "execution_count": null,
   "metadata": {},
   "outputs": [],
   "source": []
  }
 ],
 "metadata": {
  "kernelspec": {
   "display_name": "Python 3",
   "language": "python",
   "name": "python3"
  },
  "language_info": {
   "codemirror_mode": {
    "name": "ipython",
    "version": 3
   },
   "file_extension": ".py",
   "mimetype": "text/x-python",
   "name": "python",
   "nbconvert_exporter": "python",
   "pygments_lexer": "ipython3",
   "version": "3.8.5"
  }
 },
 "nbformat": 4,
 "nbformat_minor": 4
}
